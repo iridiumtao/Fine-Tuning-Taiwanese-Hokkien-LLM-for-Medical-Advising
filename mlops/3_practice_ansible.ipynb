{
 "cells": [
  {
   "cell_type": "markdown",
   "metadata": {},
   "source": [
    "## Practice using Ansible\n",
    "\n",
    "Now that we have provisioned some infrastructure, we can configure and install software on it using Ansible!\n",
    "\n",
    "Ansible is a tool for configuring systems by accessing them over SSH and running commands on them. The commands to run will be defined in advance in a series of *playbooks*, so that instead of using SSH directly and then running commands ourselves interactively, we can just execute a playbook to set up our systems.\n",
    "\n",
    "First, let’s just practice using Ansible."
   ]
  },
  {
   "cell_type": "markdown",
   "metadata": {},
   "source": [
    "### Preliminaries"
   ]
  },
  {
   "cell_type": "markdown",
   "metadata": {},
   "source": [
    "As before, let’s make sure we’ll be able to use the Ansible executables. We need to put the install directory in the `PATH` inside each new Bash session."
   ]
  },
  {
   "cell_type": "code",
   "execution_count": null,
   "metadata": {
    "tags": []
   },
   "outputs": [],
   "source": [
    "# runs in Chameleon Jupyter environment\n",
    "\n",
    "export PATH=$HOME/.local/bin:$PATH\n",
    "export PYTHONUSERBASE=$HOME/.local"
   ]
  },
  {
   "cell_type": "markdown",
   "metadata": {},
   "source": [
    "If you haven’t already, make sure to put your floating IP (which you can see in the output of the Terraform command!) in the `ansible.cfg` configuration file, and move it to the specified location.\n",
    "\n",
    "The following cell will show the contents of this file, so you can double check - make sure your real floating IP is visible in this output!"
   ]
  },
  {
   "cell_type": "code",
   "execution_count": null,
   "metadata": {
    "tags": []
   },
   "outputs": [
    {
     "name": "stdout",
     "output_type": "stream",
     "text": [
      "[defaults]\n",
      "stdout_callback = yaml\n",
      "#inventory = /home/yc7690_nyu_edu/Fine-Tuning-Taiwanese-Hokkien-LLM-for-Medical-Advising/iac/ansible/inventory.yaml\n",
      "\n",
      "[ssh_connection]\n",
      "ssh_args = -F /home/yc7690_nyu_edu/.ssh/config -o StrictHostKeyChecking=off -o UserKnownHostsFile=/dev/null -o ForwardAgent=yes\n"
     ]
    }
   ],
   "source": [
    "# runs in Chameleon Jupyter environment\n",
    "\n",
    "cat ~/Fine-Tuning-Taiwanese-Hokkien-LLM-for-Medical-Advising/iac/ansible/ansible.cfg"
   ]
  },
  {
   "cell_type": "markdown",
   "metadata": {},
   "source": [
    "Finally, we’ll `cd` to that directory -"
   ]
  },
  {
   "cell_type": "code",
   "execution_count": null,
   "metadata": {
    "tags": []
   },
   "outputs": [],
   "source": [
    "# runs in Chameleon Jupyter environment\n",
    "\n",
    "cd ~/Fine-Tuning-Taiwanese-Hokkien-LLM-for-Medical-Advising/iac/ansible"
   ]
  },
  {
   "cell_type": "markdown",
   "metadata": {},
   "source": [
    "- upload id_rsa_chameleon to the path ~/work/mlops/id_rsa_chameleon"
   ]
  },
  {
   "cell_type": "code",
   "execution_count": null,
   "metadata": {
    "tags": []
   },
   "outputs": [],
   "source": [
    "mkdir -p ~/.ssh\n",
    "mv ~/work/mlops/id_rsa_chameleon ~/.ssh/\n",
    "chmod 600 ~/.ssh/id_rsa_chameleon\n",
    "scp ~/.ssh/id_rsa_chameleon cc@192.5.87.178:/home/cc/.ssh/id_rsa_chameleon"
   ]
  },
  {
   "cell_type": "markdown",
   "metadata": {},
   "source": [
    "- **Configure SSH Access for Ansible (`3_practice_ansible.ipynb`)**  \n",
    "    - To allow Ansible to access all three nodes (node1, node2, node3), configure a local SSH config file with a **ProxyCommand**.\n",
    "    - This allows Ansible to SSH into `node2` and `node3` **via `node1`**, since only `node1` has a floating IP.\n",
    "\n",
    "    - **Edit SSH Config on node1**  \n",
    "      ```bash\n",
    "      nano ~/.ssh/config\n",
    "      ```\n",
    "\n",
    "    - **Paste the Following Configuration**\n",
    "      Replace `192.5.87.50` with the actual floating IP of `node1`, and update the key path if different.\n",
    "      ```sshconfig\n",
    "      Host node1\n",
    "          HostName 192.5.87.50\n",
    "          User cc\n",
    "          IdentityFile /home/yc7690_nyu_edu/.ssh/id_rsa_chameleon\n",
    "          StrictHostKeyChecking no\n",
    "          UserKnownHostsFile=/dev/null\n",
    "          ControlMaster auto\n",
    "          ControlPersist 120s\n",
    "          ControlPath ~/.ssh/ansible-%r@%h:%p\n",
    "\n",
    "      Host node2\n",
    "          HostName 192.168.1.12\n",
    "          User cc\n",
    "          IdentityFile /home/yc7690_nyu_edu/.ssh/id_rsa_chameleon\n",
    "          ProxyCommand ssh -i /home/yc7690_nyu_edu/.ssh/id_rsa_chameleon -W %h:%p cc@192.5.87.50\n",
    "          StrictHostKeyChecking no\n",
    "          UserKnownHostsFile=/dev/null\n",
    "          ControlMaster auto\n",
    "          ControlPersist 120s\n",
    "          ControlPath ~/.ssh/ansible-%r@%h:%p\n",
    "\n",
    "      Host node3\n",
    "          HostName 192.168.1.13\n",
    "          User cc\n",
    "          IdentityFile /home/yc7690_nyu_edu/.ssh/id_rsa_chameleon\n",
    "          ProxyCommand ssh -i /home/yc7690_nyu_edu/.ssh/id_rsa_chameleon -W %h:%p cc@192.5.87.50\n",
    "          StrictHostKeyChecking no\n",
    "          UserKnownHostsFile=/dev/null\n",
    "          ControlMaster auto\n",
    "          ControlPersist 120s\n",
    "          ControlPath ~/.ssh/ansible-%r@%h:%p\n",
    "      ```\n",
    "    - **Generate and Upload SSH Public Key**\n",
    "    To allow Ansible to connect from `node1` to `node2`/`node3`, we must ensure `node1` can SSH into them using the same key.\n",
    "\n",
    "        1. **Generate a public key from your private key**  \n",
    "            This creates a `.pub` file needed for SSH key copying.\n",
    "            ```bash\n",
    "            ssh-keygen -y -f ~/.ssh/id_rsa_chameleon > ~/.ssh/id_rsa_chameleon.pub\n",
    "            ```\n",
    "\n",
    "        2. **Edit SSH Daemon Configuration on `node1`**\n",
    "            Enable `AllowAgentForwarding` so `node1` can act as a jump host, and increase `MaxStartups` to support more concurrent SSH sessions (important when using Ansible with multiple hosts).\n",
    "            ```bash\n",
    "            sudo nano /etc/ssh/sshd_config\n",
    "            ```\n",
    "\n",
    "            Uncomment or add the following lines:\n",
    "            ```conf\n",
    "            AllowAgentForwarding yes\n",
    "            MaxStartups 30:50:200\n",
    "            ```\n",
    "\n",
    "            Then restart the SSH service:\n",
    "            ```bash\n",
    "            sudo systemctl restart ssh\n",
    "            ```\n",
    "\n",
    "            > 💡 Explanation:\n",
    "            > - `AllowAgentForwarding` is required so that SSH agent and key forwarding works when `node1` connects to `node2` and `node3`.\n",
    "            > - `MaxStartups` allows more parallel SSH sessions to prevent \"Too many authentication failures\" when Ansible connects to all nodes concurrently.\n",
    "\n",
    "        3. **Distribute SSH Public Key to Other Nodes**\n",
    "            Use `ssh-copy-id` to push the `.pub` key to `node2` and `node3` from `node1`.\n",
    "            ```bash\n",
    "            ssh-copy-id -i ~/.ssh/id_rsa_chameleon.pub cc@192.168.1.12\n",
    "            ssh-copy-id -i ~/.ssh/id_rsa_chameleon.pub cc@192.168.1.13\n",
    "            ```\n",
    "\n",
    "        4. **(Optional) Test SSH Connection**\n",
    "            You can verify connectivity directly:\n",
    "            ```bash\n",
    "            ssh -i ~/.ssh/id_rsa_chameleon cc@192.5.87.178\n",
    "            ```\n",
    "            > Replace the IP with your `node1` floating IP.\n"
   ]
  },
  {
   "cell_type": "code",
   "execution_count": 6,
   "metadata": {
    "tags": []
   },
   "outputs": [],
   "source": [
    "# scp -i ~/.ssh/id_rsa_chameleon \\\n",
    "#     -r ~/Fine-Tuning-Taiwanese-Hokkien-LLM-for-Medical-Advising/iac/ansible \\\n",
    "#     cc@192.5.87.148:/home/cc/"
   ]
  },
  {
   "cell_type": "code",
   "execution_count": null,
   "metadata": {
    "tags": []
   },
   "outputs": [
    {
     "name": "stdout",
     "output_type": "stream",
     "text": [
      "id_rsa_chameleon                              100% 2700    76.2KB/s   00:00    \n"
     ]
    }
   ],
   "source": [
    "# scp ~/.ssh/id_rsa_chameleon cc@192.5.87.178:/home/cc/.ssh/id_rsa_chameleon"
   ]
  },
  {
   "cell_type": "code",
   "execution_count": 8,
   "metadata": {
    "tags": []
   },
   "outputs": [
    {
     "name": "stdout",
     "output_type": "stream",
     "text": [
      "\n",
      "/usr/bin/ssh-copy-id: ERROR: failed to open ID file '/home/yc7690_nyu_edu/.ssh/id_rsa_chameleon.pub': No such file\n"
     ]
    },
    {
     "ename": "",
     "evalue": "1",
     "output_type": "error",
     "traceback": []
    }
   ],
   "source": [
    "# ssh-copy-id -i ~/.ssh/id_rsa_chameleon.pub cc@192.168.1.12"
   ]
  },
  {
   "cell_type": "code",
   "execution_count": 8,
   "metadata": {
    "tags": []
   },
   "outputs": [
    {
     "name": "stdout",
     "output_type": "stream",
     "text": [
      "node1 | SUCCESS => {\n",
      "    \"changed\": false,\n",
      "    \"ping\": \"pong\"\n",
      "}\n",
      "node3 | SUCCESS => {\n",
      "    \"changed\": false,\n",
      "    \"ping\": \"pong\"\n",
      "}\n",
      "node2 | SUCCESS => {\n",
      "    \"changed\": false,\n",
      "    \"ping\": \"pong\"\n",
      "}\n"
     ]
    }
   ],
   "source": [
    "# runs in Chameleon Jupyter environment\n",
    "ansible -i inventory.yml all -m ping"
   ]
  },
  {
   "cell_type": "code",
   "execution_count": 9,
   "metadata": {
    "tags": []
   },
   "outputs": [],
   "source": [
    "# ansible -i inventory.yml node3 -m ping -vvvv"
   ]
  },
  {
   "cell_type": "markdown",
   "metadata": {},
   "source": [
    "### Run a “Hello, World” playbook\n",
    "\n",
    "Once we have verified connectivity to the nodes in our “inventory”, we can run a *playbook*, which is a sequence of tasks organized in plays, and defined in a YAML file. Here we will run the following playbook with one “Hello world” play:\n",
    "\n",
    "    ---\n",
    "    - name: Hello, world - use Ansible to run a command on each host\n",
    "      hosts: all\n",
    "      gather_facts: no\n",
    "\n",
    "      tasks:\n",
    "        - name: Run hostname command\n",
    "          command: hostname\n",
    "          register: hostname_output\n",
    "\n",
    "        - name: Show hostname output\n",
    "          debug:\n",
    "            msg: \"The hostname of {{ inventory_hostname }} is {{ hostname_output.stdout }}\"\n",
    "\n",
    "The playbook connects to `all` hosts listed in the inventory, and performs two tasks: first, it runs the `hostname` command on each host and saves the result in `hostname_output`, then it prints a message showing the value of `hostname_output` (using the *debug* module)."
   ]
  },
  {
   "cell_type": "code",
   "execution_count": 10,
   "metadata": {
    "tags": []
   },
   "outputs": [
    {
     "name": "stdout",
     "output_type": "stream",
     "text": [
      "\n",
      "PLAY [Hello, world - use Ansible to run a command on each host] ****************\n",
      "\n",
      "TASK [Run hostname command] ****************************************************\n",
      "changed: [node1]\n",
      "changed: [node2]\n",
      "changed: [node3]\n",
      "\n",
      "TASK [Show hostname output] ****************************************************\n",
      "ok: [node1] => \n",
      "  msg: The hostname of node1 is node1-mlops\n",
      "ok: [node2] => \n",
      "  msg: The hostname of node2 is node2-mlops\n",
      "ok: [node3] => \n",
      "  msg: The hostname of node3 is node3-mlops\n",
      "\n",
      "PLAY RECAP *********************************************************************\n",
      "node1                      : ok=2    changed=1    unreachable=0    failed=0    skipped=0    rescued=0    ignored=0   \n",
      "node2                      : ok=2    changed=1    unreachable=0    failed=0    skipped=0    rescued=0    ignored=0   \n",
      "node3                      : ok=2    changed=1    unreachable=0    failed=0    skipped=0    rescued=0    ignored=0   \n",
      "\n"
     ]
    }
   ],
   "source": [
    "# runs in Chameleon Jupyter environment\n",
    "ansible-playbook -i inventory.yml general/hello_host.yml"
   ]
  },
  {
   "cell_type": "code",
   "execution_count": null,
   "metadata": {},
   "outputs": [],
   "source": []
  }
 ],
 "metadata": {
  "kernelspec": {
   "display_name": "Bash",
   "language": "bash",
   "name": "bash"
  },
  "language_info": {
   "codemirror_mode": "shell",
   "file_extension": ".sh",
   "mimetype": "text/x-sh",
   "name": "bash"
  }
 },
 "nbformat": 4,
 "nbformat_minor": 4
}
