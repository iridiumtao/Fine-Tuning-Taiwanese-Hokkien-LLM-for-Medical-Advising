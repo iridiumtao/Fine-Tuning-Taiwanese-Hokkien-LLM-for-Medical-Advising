{
 "cells": [
  {
   "cell_type": "markdown",
   "metadata": {},
   "source": [
    "# Create Nodes\n",
    "\n",
    "To run this experiment, you should have already created an account on Chameleon, become part of a project, reserve three `compute_gigaio` nodes(`compute_gigaio_project46_1`, `compute_gigaio_project46_2`,`compute_gigaio_project46_3`). You should also have added your SSH key to the CHI@UC site."
   ]
  },
  {
   "cell_type": "code",
   "execution_count": 1,
   "metadata": {
    "tags": []
   },
   "outputs": [
    {
     "data": {
      "application/vnd.jupyter.widget-view+json": {
       "model_id": "833393d4e541404facae0bf934ea4283",
       "version_major": 2,
       "version_minor": 0
      },
      "text/plain": [
       "VBox(children=(Dropdown(description='Select Project', options=('CHI-251409',), value='CHI-251409'), Output()))"
      ]
     },
     "metadata": {},
     "output_type": "display_data"
    },
    {
     "data": {
      "application/vnd.jupyter.widget-view+json": {
       "model_id": "d8fec09d8faf4e33b896b94bbb4dbbe4",
       "version_major": 2,
       "version_minor": 0
      },
      "text/plain": [
       "VBox(children=(Dropdown(description='Select Site', index=1, options=('CHI@TACC', 'CHI@UC', 'CHI@EVL', 'CHI@NCA…"
      ]
     },
     "metadata": {},
     "output_type": "display_data"
    }
   ],
   "source": [
    "# runs in Chameleon Jupyter environment\n",
    "from chi import context\n",
    "import os\n",
    "\n",
    "context.version = \"1.0\" \n",
    "context.choose_project()\n",
    "context.choose_site(default=\"CHI@UC\")"
   ]
  },
  {
   "cell_type": "code",
   "execution_count": 2,
   "metadata": {
    "tags": []
   },
   "outputs": [
    {
     "name": "stdout",
     "output_type": "stream",
     "text": [
      "a09e00c8-af62-4b92-929b-1e39fb4020cd\n",
      "ad5247ff-9e60-49ff-a862-3d52a6bf09e6\n",
      "eca3a12c-8edb-455e-b873-b18fa1ee39dd\n"
     ]
    }
   ],
   "source": [
    "from chi import lease\n",
    "\n",
    "lease_names = {\n",
    "    \"node1\": \"compute_gigaio_project46_1\",\n",
    "    \"node2\": \"compute_gigaio_project46_2\",\n",
    "    \"node3\": \"compute_gigaio_project46_3\"\n",
    "}\n",
    "\n",
    "reservation_map = {\n",
    "    name: lease.get_lease(lease_name).node_reservations[0][\"id\"]\n",
    "    for name, lease_name in lease_names.items()\n",
    "}\n",
    "# node_hostnames = {\n",
    "#     name: lease.get_lease(lease_name).nodes[0][\"name\"] + \".chameleoncloud.org\"\n",
    "#     for name, lease_name in lease_names.items()\n",
    "# }\n",
    "for name, lease_name in lease_names.items():\n",
    "    print(lease.get_lease(lease_name).node_reservations[0][\"id\"])"
   ]
  },
  {
   "cell_type": "code",
   "execution_count": null,
   "metadata": {
    "vscode": {
     "languageId": "bash"
    }
   },
   "outputs": [],
   "source": [
    "cd ~/Fine-Tuning-Taiwanese-Hokkien-LLM-for-Medical-Advising/iac/tf/chi "
   ]
  },
  {
   "cell_type": "code",
   "execution_count": 4,
   "metadata": {
    "tags": []
   },
   "outputs": [],
   "source": [
    "import json\n",
    "\n",
    "with open(\"outputs.json\") as f:\n",
    "    out = json.load(f)\n",
    "    sharednet1_ports = {\n",
    "        \"node1\": out[\"sharednet1_ports\"][\"value\"][\"node1\"],\n",
    "        \"node2\": out[\"sharednet1_ports\"][\"value\"][\"node2\"],\n",
    "        \"node3\": out[\"sharednet1_ports\"][\"value\"][\"node3\"],\n",
    "    }\n",
    "    private_net_ports = {\n",
    "        \"node1\": out[\"private_net_ports\"][\"value\"][\"node1\"],\n",
    "        \"node2\": out[\"private_net_ports\"][\"value\"][\"node2\"],\n",
    "        \"node3\": out[\"private_net_ports\"][\"value\"][\"node3\"],\n",
    "    }"
   ]
  },
  {
   "cell_type": "code",
   "execution_count": 5,
   "metadata": {
    "tags": []
   },
   "outputs": [],
   "source": [
    "# path = os.path.expanduser(\"~/Fine-Tuning-Taiwanese-Hokkien-LLM-for-Medical-Advising/iac/tf/chi/terraform.tfvars\")\n",
    "# with open(path, \"w\") as f:\n",
    "#     f.write('suffix = \"yc7690\"\\n')\n",
    "#     f.write('key    = \"id_rsa_chameleon\"\\n')\n",
    "#     f.write('node_reservations = {\\n')\n",
    "#     for node, res_id in reservation_map.items():\n",
    "#         f.write(f'  {node} = \"{res_id}\"\\n')\n",
    "#     f.write('}\\n')\n",
    "# with open(path, \"w\") as f:\n",
    "#     f.write(\"node_hostnames = {\\n\")\n",
    "#     for name, host in node_hostnames.items():\n",
    "#         f.write(f'  {name} = \"{host}\"\\n')\n",
    "#     f.write(\"}\\n\")"
   ]
  },
  {
   "cell_type": "code",
   "execution_count": 6,
   "metadata": {
    "tags": []
   },
   "outputs": [],
   "source": [
    "# from openstack import connection\n",
    "# import subprocess, json\n",
    "\n",
    "# terraform_dir = os.path.expanduser(\"~/Fine-Tuning-Taiwanese-Hokkien-LLM-for-Medical-Advising/iac/tf/chi\")\n",
    "# outputs = subprocess.check_output([\"terraform\", \"output\", \"-json\"], cwd=terraform_dir)\n",
    "\n",
    "# ports = json.loads(outputs)\n",
    "# port_map = {\n",
    "#     \"node1\": ports[\"sharednet1_port_id_node1\"][\"value\"],\n",
    "#     \"node2\": ports[\"private_net_port_id_node2\"][\"value\"],\n",
    "#     \"node3\": ports[\"private_net_port_id_node3\"][\"value\"]\n",
    "# }\n",
    "# print(ports.keys())"
   ]
  },
  {
   "cell_type": "code",
   "execution_count": 7,
   "metadata": {
    "tags": []
   },
   "outputs": [],
   "source": [
    "# Create servers\n",
    "# from openstack import connection\n",
    "# conn = connection.from_config(cloud=\"openstack\")\n",
    "# for node in [\"node1\", \"node2\", \"node3\"]:\n",
    "#     print(f\"Creating {node}...\")\n",
    "#     server = conn.create_server(\n",
    "#         name=f\"{node}-mlops\",\n",
    "#         image='CC-Ubuntu24.04-CUDA',\n",
    "#         flavor='baremetal',\n",
    "#         key_name='id_rsa_chameleon',\n",
    "#         nics=[\n",
    "#             {\"port-id\": sharednet1_ports[node]},\n",
    "#             {\"port-id\": private_net_ports[node]}\n",
    "#         ],\n",
    "#         scheduler_hints={\"reservation\": reservation_map[node]},\n",
    "#         wait=False,\n",
    "#         auto_ip=False,\n",
    "#         user_data = f\"\"\"#!/bin/bash\n",
    "# echo '127.0.1.1 {node}-mlops' >> /etc/hosts\n",
    "# su cc -c /usr/local/bin/cc-load-public-keys\n",
    "# \"\"\"\n",
    "#     )\n",
    "#     print(f\"{node} server created: {server.id}\")\n"
   ]
  },
  {
   "cell_type": "code",
   "execution_count": 8,
   "metadata": {
    "tags": []
   },
   "outputs": [
    {
     "name": "stdout",
     "output_type": "stream",
     "text": [
      "Creating node1...\n",
      "node1 server created: 0e34eabd-fffd-450b-af60-a244b6a13614\n",
      "Creating node2...\n",
      "node2 server created: 5f228da3-7d3c-4f27-af04-510cae12d3c7\n",
      "Creating node3...\n",
      "node3 server created: 90278510-f28e-418b-8b74-98b7824777b9\n"
     ]
    }
   ],
   "source": [
    "import base64\n",
    "\n",
    "user_data_script = \"\"\"#!/bin/bash\n",
    "echo '127.0.1.1 {node}-mlops' >> /etc/hosts\n",
    "su cc -c /usr/local/bin/cc-load-public-keys\n",
    "\"\"\"\n",
    "from openstack import connection\n",
    "conn = connection.from_config(cloud=\"openstack\")\n",
    "for node in [\"node1\", \"node2\", \"node3\"]:\n",
    "    print(f\"Creating {node}...\")\n",
    "\n",
    "    encoded_user_data = base64.b64encode(\n",
    "        user_data_script.format(node=node).encode(\"utf-8\")\n",
    "    ).decode(\"utf-8\")\n",
    "\n",
    "    server = conn.compute.create_server(\n",
    "        name=f\"{node}-mlops\",\n",
    "        image_id=conn.compute.find_image(\"CC-Ubuntu24.04-CUDA\").id,\n",
    "        flavor_id=conn.compute.find_flavor(\"baremetal\").id,\n",
    "        networks=[\n",
    "            {\"port\": sharednet1_ports[node]},\n",
    "            {\"port\": private_net_ports[node]}\n",
    "        ],\n",
    "        key_name=\"id_rsa_chameleon\",\n",
    "        scheduler_hints={\"reservation\": reservation_map[node]},\n",
    "        user_data=encoded_user_data\n",
    "    )\n",
    "    print(f\"{node} server created: {server.id}\")\n"
   ]
  },
  {
   "cell_type": "code",
   "execution_count": 13,
   "metadata": {
    "tags": []
   },
   "outputs": [
    {
     "name": "stdout",
     "output_type": "stream",
     "text": [
      "ACTIVE\n"
     ]
    }
   ],
   "source": [
    "server = conn.get_server(\"90278510-f28e-418b-8b74-98b7824777b9\")\n",
    "print(server.status)"
   ]
  }
 ],
 "metadata": {
  "kernelspec": {
   "display_name": "Python 3 (ipykernel)",
   "language": "python",
   "name": "python3"
  },
  "language_info": {
   "codemirror_mode": {
    "name": "ipython",
    "version": 3
   },
   "file_extension": ".py",
   "mimetype": "text/x-python",
   "name": "python",
   "nbconvert_exporter": "python",
   "pygments_lexer": "ipython3",
   "version": "3.10.9"
  }
 },
 "nbformat": 4,
 "nbformat_minor": 4
}
