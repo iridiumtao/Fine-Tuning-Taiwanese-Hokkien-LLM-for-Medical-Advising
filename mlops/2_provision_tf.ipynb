{
 "cells": [
  {
   "cell_type": "markdown",
   "metadata": {},
   "source": [
    "## Provision infrastructure with Terraform\n",
    "\n",
    "Now that everything is set up, we are ready to provision our VM resources with Terraform! We will use Terraform to provision 3 VM instances and associated network resources on the OpenStack cloud.\n",
    "\n",
    "<figure>\n",
    "<img src=\"images/step1-tf.svg\" alt=\"Using Terraform to provision resources.\" />\n",
    "<figcaption aria-hidden=\"true\">Using Terraform to provision resources.</figcaption>\n",
    "</figure>"
   ]
  },
  {
   "cell_type": "markdown",
   "metadata": {},
   "source": [
    "### Preliminaries"
   ]
  },
  {
   "cell_type": "markdown",
   "metadata": {},
   "source": [
    "Let’s navigate to the directory with the Terraform configuration for our KVM deployment:"
   ]
  },
  {
   "cell_type": "code",
   "execution_count": null,
   "metadata": {
    "tags": []
   },
   "outputs": [],
   "source": [
    "# runs in Chameleon Jupyter environment\n",
    "\n",
    "cd ~/Fine-Tuning-Taiwanese-Hokkien-LLM-for-Medical-Advising/iac/tf/chi"
   ]
  },
  {
   "cell_type": "markdown",
   "metadata": {},
   "source": [
    "and make sure we’ll be able to run the `terraform` executable by adding the directory in which it is located to our `PATH`:"
   ]
  },
  {
   "cell_type": "code",
   "execution_count": null,
   "metadata": {
    "tags": []
   },
   "outputs": [],
   "source": [
    "# runs in Chameleon Jupyter environment\n",
    "\n",
    "export PATH=$HOME/.local/bin:$PATH"
   ]
  },
  {
   "cell_type": "markdown",
   "metadata": {},
   "source": [
    "We also need to un-set some OpenStack-related environment variables that are set automatically in the Chameleon Jupyter environment, since these will override some Terraform settings that we *don’t* want to override:"
   ]
  },
  {
   "cell_type": "code",
   "execution_count": 3,
   "metadata": {
    "tags": []
   },
   "outputs": [],
   "source": [
    "# runs in Chameleon Jupyter environment\n",
    "unset $(set | grep -o \"^OS_[A-Za-z0-9_]*\")"
   ]
  },
  {
   "cell_type": "code",
   "execution_count": null,
   "metadata": {
    "tags": []
   },
   "outputs": [],
   "source": []
  },
  {
   "cell_type": "markdown",
   "metadata": {},
   "source": [
    "We should also check that our `clouds.yaml` is set up:"
   ]
  },
  {
   "cell_type": "code",
   "execution_count": 4,
   "metadata": {
    "tags": []
   },
   "outputs": [
    {
     "name": "stdout",
     "output_type": "stream",
     "text": [
      "# This is a clouds.yaml file, which can be used by OpenStack tools as a source\n",
      "# of configuration on how to connect to a cloud. If this is your only cloud,\n",
      "# just put this file in ~/.config/openstack/clouds.yaml and tools like\n",
      "# python-openstackclient will just work with no further config. (You will need\n",
      "# to add your password to the auth section)\n",
      "# If you have more than one cloud account, add the cloud entry to the clouds\n",
      "# section of your existing file and you can refer to them by name with\n",
      "# OS_CLOUD=openstack or --os-cloud=openstack\n",
      "clouds:\n",
      "  openstack:\n",
      "    \n",
      "    auth:\n",
      "      \n",
      "      auth_url: https://chi.uc.chameleoncloud.org:5000\n",
      "      \n",
      "      application_credential_id: \"38b4b74796d0409fbf4d3b856dd29ebe\"\n",
      "      application_credential_secret: \"eIPGLF0Mbqxvrtv-nXCbBuSZVKI1St5YIcMFGe4BHK8tW6Dnw1M5iQ-6Cb4T5O0E3WbcKtMMw6w68XogVDPyBg\"\n",
      "    \n",
      "      \n",
      "        \n",
      "    region_name: \"CHI@UC\"\n",
      "        \n",
      "      \n",
      "    interface: \"public\"\n",
      "    identity_api_version: 3\n",
      "    auth_type: \"v3applicationcredential\"\n",
      "    \n"
     ]
    }
   ],
   "source": [
    "# runs in Chameleon Jupyter environment\n",
    "cat  clouds.yaml"
   ]
  },
  {
   "cell_type": "markdown",
   "metadata": {},
   "source": [
    "### Understanding our Terraform configuration"
   ]
  },
  {
   "cell_type": "markdown",
   "metadata": {},
   "source": [
    "The `tf/chi` directory in our IaC repository includes the following files, which we’ll briefly discuss now.\n",
    "\n",
    "    ├── data.tf\n",
    "    ├── main.tf\n",
    "    ├── outputs.tf\n",
    "    ├── provider.tf\n",
    "    ├── variables.tf\n",
    "    └── versions.tf\n",
    "\n",
    "A Terraform configuration defines infrastructure elements using stanzas, which include different components such as\n",
    "\n",
    "-   data sources (see `data.tf`)\n",
    "-   resources, (ours are in `main.tf`)\n",
    "-   outputs, (see `outputs.tf`)\n",
    "-   one or more providers (see `providers.tf`) with reference to providers listed in our `clouds.yaml`,\n",
    "-   variables, (see `variables.tf`)\n",
    "-   and by convention there is a `versions.tf` which describes what version of Terraform and what version of the OpenStack plugin for Terraform our configuration is defined for.\n",
    "\n",
    "We’ll focus especially on data sources, resources, outputs, and variables.\n",
    "\n",
    "The data sources, variables, and resources are used to define and manage infrastructure.\n",
    "\n",
    "-   **data** sources get existing infrastructure details from OpenStack about resources *not* managed by Terraform, e.g. available images or flavors. You can look at our `data.tf` and see that we are asking Terraform to find out about the existing `sharednet1` network, its associated subnet, and several security groups.\n",
    "-   **variables** let us define inputs and reuse the configuration across different environments. The value of variables can be passed in the command line arguments when we run a `terraform` command, or by defining environment variables that start with `TF_VAR`. In this example, there’s a variable `instance_hostname` so that we can re-use this configuration to create a VM with any hostname - the variable is used inside the resource block with `name = \"${var.instance_hostname}\"`. If you look at our `variables.tf`, you can see that we’ll use variables to define a suffix to include in all our resource names (e.g. your net ID), and the name of your key pair.\n",
    "-   **resources** represent actual OpenStack components such as compute instances, networks, ports, floating IPs, and security groups. You can see the types of resources available in the [documentation](https://registry.terraform.io/providers/terraform-provider-openstack/openstack/latest/docs). Our resoures are defined in `main.tf`.\n",
    "\n",
    "You may notice the use of `for_each` in `main.tf`. This is used to iterate over a collection, such as a map variable, to create multiple instances of a resource. Since `for_each` assigns unique keys to each element, that makes it easier to reference specific resources. For example, we provision a port on `sharednet1` for each instance, but when we assign a floating IP, we can specifically refer to the port for “node1” with `openstack_networking_port_v2.sharednet1_ports[\"node1\"].id`.\n",
    "\n",
    "Terraform also supports outputs, which provide information about the infrastructure after deployment. For example, if we want to print a dynamically assigned floating IP after the infrastructure is deployed, we might put it in an output. This will save us from having to look it up in the Horizon GUI. You can see in `outputs.tf` that we do exactly this.\n",
    "\n",
    "Terraform is *declarative*, not imperative, so we don’t need to write the exact steps needed to provision this infrastructure - Terraform will examine our configuration and figure out a plan to realize it."
   ]
  },
  {
   "cell_type": "markdown",
   "metadata": {},
   "source": [
    "### Applying our Terraform configuration"
   ]
  },
  {
   "cell_type": "markdown",
   "metadata": {},
   "source": [
    "First, we need Terraform to set up our working directory, make sure it has “provider” plugins to interact with our infrastructure provider (it will read in `provider.tf` to check), and set up storage for keeping track of the infrastructure state:"
   ]
  },
  {
   "cell_type": "code",
   "execution_count": 5,
   "metadata": {
    "tags": []
   },
   "outputs": [
    {
     "name": "stdout",
     "output_type": "stream",
     "text": [
      "\u001b[0m\u001b[1mInitializing the backend...\u001b[0m\n",
      "\u001b[0m\u001b[1mInitializing provider plugins...\u001b[0m\n",
      "- Finding terraform-provider-openstack/openstack versions matching \"~> 1.51.1\"...\n",
      "- Installing terraform-provider-openstack/openstack v1.51.1...\n",
      "- Installed terraform-provider-openstack/openstack v1.51.1 (self-signed, key ID \u001b[0m\u001b[1m4F80527A391BEFD2\u001b[0m\u001b[0m)\n",
      "Partner and community providers are signed by their developers.\n",
      "If you'd like to know more about provider signing, you can read about it here:\n",
      "https://www.terraform.io/docs/cli/plugins/signing.html\n",
      "Terraform has created a lock file \u001b[1m.terraform.lock.hcl\u001b[0m to record the provider\n",
      "selections it made above. Include this file in your version control repository\n",
      "so that Terraform can guarantee to make the same selections by default when\n",
      "you run \"terraform init\" in the future.\u001b[0m\n",
      "\n",
      "\u001b[0m\u001b[1m\u001b[32mTerraform has been successfully initialized!\u001b[0m\u001b[32m\u001b[0m\n",
      "\u001b[0m\u001b[32m\n",
      "You may now begin working with Terraform. Try running \"terraform plan\" to see\n",
      "any changes that are required for your infrastructure. All Terraform commands\n",
      "should now work.\n",
      "\n",
      "If you ever set or change modules or backend configuration for Terraform,\n",
      "rerun this command to reinitialize your working directory. If you forget, other\n",
      "commands will detect it and remind you to do so if necessary.\u001b[0m\n"
     ]
    }
   ],
   "source": [
    "# runs in Chameleon Jupyter environment\n",
    "# terraform init\n",
    "terraform init -upgrade"
   ]
  },
  {
   "cell_type": "markdown",
   "metadata": {},
   "source": [
    "We need to set some [variables](https://developer.hashicorp.com/terraform/language/values/variables). In our Terraform configuration, we define a variable named `suffix` that we will substitute with our own net ID, and then we use that variable inside the hostname of instances and the names of networks and other resources in `main.tf`, e.g. we name our network\n",
    "<pre>private-subnet-mlops-<b>${var.suffix}</b></pre>\n",
    "\n",
    ". We’ll also use a variable to specify a key pair to install.\n",
    "\n",
    "In the following cell, **replace `netID` with your actual net ID, and replace `id_rsa_chameleon` with the name of *your* personal key that you use to access Chameleon resources**."
   ]
  },
  {
   "cell_type": "code",
   "execution_count": 6,
   "metadata": {
    "tags": []
   },
   "outputs": [],
   "source": [
    "# runs in Chameleon Jupyter environment\n",
    "export TF_VAR_suffix=yc7690\n",
    "export TF_VAR_key=id_rsa_chameleon\n",
    "# terraform providers"
   ]
  },
  {
   "cell_type": "markdown",
   "metadata": {},
   "source": [
    "We should confirm that our planned configuration is valid:"
   ]
  },
  {
   "cell_type": "code",
   "execution_count": 7,
   "metadata": {
    "tags": []
   },
   "outputs": [
    {
     "name": "stdout",
     "output_type": "stream",
     "text": [
      "\u001b[32m\u001b[1mSuccess!\u001b[0m The configuration is valid.\n",
      "\u001b[0m\n"
     ]
    }
   ],
   "source": [
    "# runs in Chameleon Jupyter environment\n",
    "terraform validate"
   ]
  },
  {
   "cell_type": "markdown",
   "metadata": {},
   "source": [
    "Then, let’s preview the changes that Terraform will make to our infrastructure. In this stage, Terraform communicates with the cloud infrastructure provider to see what have *already* deployed and to"
   ]
  },
  {
   "cell_type": "code",
   "execution_count": 8,
   "metadata": {
    "tags": []
   },
   "outputs": [],
   "source": [
    "# openstack network list --os-cloud openstack"
   ]
  },
  {
   "cell_type": "code",
   "execution_count": 9,
   "metadata": {
    "tags": []
   },
   "outputs": [],
   "source": [
    "# openstack security group list --os-cloud openstack"
   ]
  },
  {
   "cell_type": "code",
   "execution_count": 10,
   "metadata": {
    "tags": []
   },
   "outputs": [
    {
     "name": "stdout",
     "output_type": "stream",
     "text": [
      "\u001b[0m\u001b[1mdata.openstack_networking_secgroup_v2.allow_8888: Reading...\u001b[0m\u001b[0m\n",
      "\u001b[0m\u001b[1mdata.openstack_networking_network_v2.sharednet1: Reading...\u001b[0m\u001b[0m\n",
      "\u001b[0m\u001b[1mdata.openstack_networking_secgroup_v2.allow_3000: Reading...\u001b[0m\u001b[0m\n",
      "\u001b[0m\u001b[1mdata.openstack_networking_secgroup_v2.allow_9090: Reading...\u001b[0m\u001b[0m\n",
      "\u001b[0m\u001b[1mdata.openstack_networking_secgroup_v2.allow_ssh: Reading...\u001b[0m\u001b[0m\n",
      "\u001b[0m\u001b[1mdata.openstack_networking_secgroup_v2.allow_8000: Reading...\u001b[0m\u001b[0m\n",
      "\u001b[0m\u001b[1mdata.openstack_networking_subnet_v2.sharednet1_subnet: Reading...\u001b[0m\u001b[0m\n",
      "\u001b[0m\u001b[1mdata.openstack_networking_secgroup_v2.allow_9090: Read complete after 1s [id=b338bb71-dd8e-4c85-a184-92fb4d68b695]\u001b[0m\n",
      "\u001b[0m\u001b[1mdata.openstack_networking_secgroup_v2.allow_8000: Read complete after 1s [id=bc4469fc-9ef9-4c90-9dc8-6aca8e63b202]\u001b[0m\n",
      "\u001b[0m\u001b[1mdata.openstack_networking_secgroup_v2.allow_8888: Read complete after 1s [id=b4bf9af7-4028-4f13-a375-74d917114973]\u001b[0m\n",
      "\u001b[0m\u001b[1mdata.openstack_networking_secgroup_v2.allow_ssh: Read complete after 1s [id=295c8620-4924-4ad5-96eb-4e7cf752e342]\u001b[0m\n",
      "\u001b[0m\u001b[1mdata.openstack_networking_network_v2.sharednet1: Read complete after 1s [id=a772a899-ff3d-420b-8b31-1c485092481a]\u001b[0m\n",
      "\u001b[0m\u001b[1mdata.openstack_networking_subnet_v2.sharednet1_subnet: Read complete after 2s [id=b872f0eb-8367-4865-a34e-409cdf34f159]\u001b[0m\n",
      "\u001b[0m\u001b[1mdata.openstack_networking_secgroup_v2.allow_3000: Read complete after 2s [id=f2a377d4-28e3-43dd-b9f9-81656cd3dd49]\u001b[0m\n",
      "\n",
      "Terraform used the selected providers to generate the following execution plan.\n",
      "Resource actions are indicated with the following symbols:\n",
      "  \u001b[32m+\u001b[0m create\u001b[0m\n",
      "\n",
      "Terraform will perform the following actions:\n",
      "\n",
      "\u001b[1m  # openstack_networking_floatingip_v2.floating_ip\u001b[0m will be created\n",
      "\u001b[0m  \u001b[32m+\u001b[0m\u001b[0m resource \"openstack_networking_floatingip_v2\" \"floating_ip\" {\n",
      "      \u001b[32m+\u001b[0m\u001b[0m address     = (known after apply)\n",
      "      \u001b[32m+\u001b[0m\u001b[0m all_tags    = (known after apply)\n",
      "      \u001b[32m+\u001b[0m\u001b[0m description = \"MLOps IP for yc7690\"\n",
      "      \u001b[32m+\u001b[0m\u001b[0m dns_domain  = (known after apply)\n",
      "      \u001b[32m+\u001b[0m\u001b[0m dns_name    = (known after apply)\n",
      "      \u001b[32m+\u001b[0m\u001b[0m fixed_ip    = (known after apply)\n",
      "      \u001b[32m+\u001b[0m\u001b[0m id          = (known after apply)\n",
      "      \u001b[32m+\u001b[0m\u001b[0m pool        = \"public\"\n",
      "      \u001b[32m+\u001b[0m\u001b[0m port_id     = (known after apply)\n",
      "      \u001b[32m+\u001b[0m\u001b[0m region      = (known after apply)\n",
      "      \u001b[32m+\u001b[0m\u001b[0m subnet_id   = (known after apply)\n",
      "      \u001b[32m+\u001b[0m\u001b[0m tenant_id   = (known after apply)\n",
      "    }\n",
      "\n",
      "\u001b[1m  # openstack_networking_network_v2.private_net\u001b[0m will be created\n",
      "\u001b[0m  \u001b[32m+\u001b[0m\u001b[0m resource \"openstack_networking_network_v2\" \"private_net\" {\n",
      "      \u001b[32m+\u001b[0m\u001b[0m admin_state_up          = (known after apply)\n",
      "      \u001b[32m+\u001b[0m\u001b[0m all_tags                = (known after apply)\n",
      "      \u001b[32m+\u001b[0m\u001b[0m availability_zone_hints = (known after apply)\n",
      "      \u001b[32m+\u001b[0m\u001b[0m dns_domain              = (known after apply)\n",
      "      \u001b[32m+\u001b[0m\u001b[0m external                = (known after apply)\n",
      "      \u001b[32m+\u001b[0m\u001b[0m id                      = (known after apply)\n",
      "      \u001b[32m+\u001b[0m\u001b[0m mtu                     = (known after apply)\n",
      "      \u001b[32m+\u001b[0m\u001b[0m name                    = \"private-net-mlops-yc7690\"\n",
      "      \u001b[32m+\u001b[0m\u001b[0m port_security_enabled   = false\n",
      "      \u001b[32m+\u001b[0m\u001b[0m qos_policy_id           = (known after apply)\n",
      "      \u001b[32m+\u001b[0m\u001b[0m region                  = (known after apply)\n",
      "      \u001b[32m+\u001b[0m\u001b[0m shared                  = (known after apply)\n",
      "      \u001b[32m+\u001b[0m\u001b[0m tenant_id               = (known after apply)\n",
      "      \u001b[32m+\u001b[0m\u001b[0m transparent_vlan        = (known after apply)\n",
      "\n",
      "      \u001b[32m+\u001b[0m\u001b[0m segments (known after apply)\n",
      "    }\n",
      "\n",
      "\u001b[1m  # openstack_networking_port_v2.private_net_ports[\"node1\"]\u001b[0m will be created\n",
      "\u001b[0m  \u001b[32m+\u001b[0m\u001b[0m resource \"openstack_networking_port_v2\" \"private_net_ports\" {\n",
      "      \u001b[32m+\u001b[0m\u001b[0m admin_state_up         = (known after apply)\n",
      "      \u001b[32m+\u001b[0m\u001b[0m all_fixed_ips          = (known after apply)\n",
      "      \u001b[32m+\u001b[0m\u001b[0m all_security_group_ids = (known after apply)\n",
      "      \u001b[32m+\u001b[0m\u001b[0m all_tags               = (known after apply)\n",
      "      \u001b[32m+\u001b[0m\u001b[0m device_id              = (known after apply)\n",
      "      \u001b[32m+\u001b[0m\u001b[0m device_owner           = (known after apply)\n",
      "      \u001b[32m+\u001b[0m\u001b[0m dns_assignment         = (known after apply)\n",
      "      \u001b[32m+\u001b[0m\u001b[0m dns_name               = (known after apply)\n",
      "      \u001b[32m+\u001b[0m\u001b[0m id                     = (known after apply)\n",
      "      \u001b[32m+\u001b[0m\u001b[0m mac_address            = (known after apply)\n",
      "      \u001b[32m+\u001b[0m\u001b[0m name                   = \"port-node1-mlops-yc7690\"\n",
      "      \u001b[32m+\u001b[0m\u001b[0m network_id             = (known after apply)\n",
      "      \u001b[32m+\u001b[0m\u001b[0m port_security_enabled  = false\n",
      "      \u001b[32m+\u001b[0m\u001b[0m qos_policy_id          = (known after apply)\n",
      "      \u001b[32m+\u001b[0m\u001b[0m region                 = (known after apply)\n",
      "      \u001b[32m+\u001b[0m\u001b[0m tenant_id              = (known after apply)\n",
      "\n",
      "      \u001b[32m+\u001b[0m\u001b[0m binding (known after apply)\n",
      "\n",
      "      \u001b[32m+\u001b[0m\u001b[0m fixed_ip {\n",
      "          \u001b[32m+\u001b[0m\u001b[0m ip_address = \"192.168.1.11\"\n",
      "          \u001b[32m+\u001b[0m\u001b[0m subnet_id  = (known after apply)\n",
      "        }\n",
      "    }\n",
      "\n",
      "\u001b[1m  # openstack_networking_port_v2.private_net_ports[\"node2\"]\u001b[0m will be created\n",
      "\u001b[0m  \u001b[32m+\u001b[0m\u001b[0m resource \"openstack_networking_port_v2\" \"private_net_ports\" {\n",
      "      \u001b[32m+\u001b[0m\u001b[0m admin_state_up         = (known after apply)\n",
      "      \u001b[32m+\u001b[0m\u001b[0m all_fixed_ips          = (known after apply)\n",
      "      \u001b[32m+\u001b[0m\u001b[0m all_security_group_ids = (known after apply)\n",
      "      \u001b[32m+\u001b[0m\u001b[0m all_tags               = (known after apply)\n",
      "      \u001b[32m+\u001b[0m\u001b[0m device_id              = (known after apply)\n",
      "      \u001b[32m+\u001b[0m\u001b[0m device_owner           = (known after apply)\n",
      "      \u001b[32m+\u001b[0m\u001b[0m dns_assignment         = (known after apply)\n",
      "      \u001b[32m+\u001b[0m\u001b[0m dns_name               = (known after apply)\n",
      "      \u001b[32m+\u001b[0m\u001b[0m id                     = (known after apply)\n",
      "      \u001b[32m+\u001b[0m\u001b[0m mac_address            = (known after apply)\n",
      "      \u001b[32m+\u001b[0m\u001b[0m name                   = \"port-node2-mlops-yc7690\"\n",
      "      \u001b[32m+\u001b[0m\u001b[0m network_id             = (known after apply)\n",
      "      \u001b[32m+\u001b[0m\u001b[0m port_security_enabled  = false\n",
      "      \u001b[32m+\u001b[0m\u001b[0m qos_policy_id          = (known after apply)\n",
      "      \u001b[32m+\u001b[0m\u001b[0m region                 = (known after apply)\n",
      "      \u001b[32m+\u001b[0m\u001b[0m tenant_id              = (known after apply)\n",
      "\n",
      "      \u001b[32m+\u001b[0m\u001b[0m binding (known after apply)\n",
      "\n",
      "      \u001b[32m+\u001b[0m\u001b[0m fixed_ip {\n",
      "          \u001b[32m+\u001b[0m\u001b[0m ip_address = \"192.168.1.12\"\n",
      "          \u001b[32m+\u001b[0m\u001b[0m subnet_id  = (known after apply)\n",
      "        }\n",
      "    }\n",
      "\n",
      "\u001b[1m  # openstack_networking_port_v2.private_net_ports[\"node3\"]\u001b[0m will be created\n",
      "\u001b[0m  \u001b[32m+\u001b[0m\u001b[0m resource \"openstack_networking_port_v2\" \"private_net_ports\" {\n",
      "      \u001b[32m+\u001b[0m\u001b[0m admin_state_up         = (known after apply)\n",
      "      \u001b[32m+\u001b[0m\u001b[0m all_fixed_ips          = (known after apply)\n",
      "      \u001b[32m+\u001b[0m\u001b[0m all_security_group_ids = (known after apply)\n",
      "      \u001b[32m+\u001b[0m\u001b[0m all_tags               = (known after apply)\n",
      "      \u001b[32m+\u001b[0m\u001b[0m device_id              = (known after apply)\n",
      "      \u001b[32m+\u001b[0m\u001b[0m device_owner           = (known after apply)\n",
      "      \u001b[32m+\u001b[0m\u001b[0m dns_assignment         = (known after apply)\n",
      "      \u001b[32m+\u001b[0m\u001b[0m dns_name               = (known after apply)\n",
      "      \u001b[32m+\u001b[0m\u001b[0m id                     = (known after apply)\n",
      "      \u001b[32m+\u001b[0m\u001b[0m mac_address            = (known after apply)\n",
      "      \u001b[32m+\u001b[0m\u001b[0m name                   = \"port-node3-mlops-yc7690\"\n",
      "      \u001b[32m+\u001b[0m\u001b[0m network_id             = (known after apply)\n",
      "      \u001b[32m+\u001b[0m\u001b[0m port_security_enabled  = false\n",
      "      \u001b[32m+\u001b[0m\u001b[0m qos_policy_id          = (known after apply)\n",
      "      \u001b[32m+\u001b[0m\u001b[0m region                 = (known after apply)\n",
      "      \u001b[32m+\u001b[0m\u001b[0m tenant_id              = (known after apply)\n",
      "\n",
      "      \u001b[32m+\u001b[0m\u001b[0m binding (known after apply)\n",
      "\n",
      "      \u001b[32m+\u001b[0m\u001b[0m fixed_ip {\n",
      "          \u001b[32m+\u001b[0m\u001b[0m ip_address = \"192.168.1.13\"\n",
      "          \u001b[32m+\u001b[0m\u001b[0m subnet_id  = (known after apply)\n",
      "        }\n",
      "    }\n",
      "\n",
      "\u001b[1m  # openstack_networking_port_v2.sharednet1_ports[\"node1\"]\u001b[0m will be created\n",
      "\u001b[0m  \u001b[32m+\u001b[0m\u001b[0m resource \"openstack_networking_port_v2\" \"sharednet1_ports\" {\n",
      "      \u001b[32m+\u001b[0m\u001b[0m admin_state_up         = (known after apply)\n",
      "      \u001b[32m+\u001b[0m\u001b[0m all_fixed_ips          = (known after apply)\n",
      "      \u001b[32m+\u001b[0m\u001b[0m all_security_group_ids = (known after apply)\n",
      "      \u001b[32m+\u001b[0m\u001b[0m all_tags               = (known after apply)\n",
      "      \u001b[32m+\u001b[0m\u001b[0m device_id              = (known after apply)\n",
      "      \u001b[32m+\u001b[0m\u001b[0m device_owner           = (known after apply)\n",
      "      \u001b[32m+\u001b[0m\u001b[0m dns_assignment         = (known after apply)\n",
      "      \u001b[32m+\u001b[0m\u001b[0m dns_name               = (known after apply)\n",
      "      \u001b[32m+\u001b[0m\u001b[0m id                     = (known after apply)\n",
      "      \u001b[32m+\u001b[0m\u001b[0m mac_address            = (known after apply)\n",
      "      \u001b[32m+\u001b[0m\u001b[0m name                   = \"sharednet1-node1-mlops-yc7690\"\n",
      "      \u001b[32m+\u001b[0m\u001b[0m network_id             = \"a772a899-ff3d-420b-8b31-1c485092481a\"\n",
      "      \u001b[32m+\u001b[0m\u001b[0m port_security_enabled  = (known after apply)\n",
      "      \u001b[32m+\u001b[0m\u001b[0m qos_policy_id          = (known after apply)\n",
      "      \u001b[32m+\u001b[0m\u001b[0m region                 = (known after apply)\n",
      "      \u001b[32m+\u001b[0m\u001b[0m security_group_ids     = [\n",
      "          \u001b[32m+\u001b[0m\u001b[0m \"295c8620-4924-4ad5-96eb-4e7cf752e342\",\n",
      "          \u001b[32m+\u001b[0m\u001b[0m \"b338bb71-dd8e-4c85-a184-92fb4d68b695\",\n",
      "          \u001b[32m+\u001b[0m\u001b[0m \"b4bf9af7-4028-4f13-a375-74d917114973\",\n",
      "          \u001b[32m+\u001b[0m\u001b[0m \"bc4469fc-9ef9-4c90-9dc8-6aca8e63b202\",\n",
      "          \u001b[32m+\u001b[0m\u001b[0m \"f2a377d4-28e3-43dd-b9f9-81656cd3dd49\",\n",
      "        ]\n",
      "      \u001b[32m+\u001b[0m\u001b[0m tenant_id              = (known after apply)\n",
      "\n",
      "      \u001b[32m+\u001b[0m\u001b[0m binding (known after apply)\n",
      "    }\n",
      "\n",
      "\u001b[1m  # openstack_networking_port_v2.sharednet1_ports[\"node2\"]\u001b[0m will be created\n",
      "\u001b[0m  \u001b[32m+\u001b[0m\u001b[0m resource \"openstack_networking_port_v2\" \"sharednet1_ports\" {\n",
      "      \u001b[32m+\u001b[0m\u001b[0m admin_state_up         = (known after apply)\n",
      "      \u001b[32m+\u001b[0m\u001b[0m all_fixed_ips          = (known after apply)\n",
      "      \u001b[32m+\u001b[0m\u001b[0m all_security_group_ids = (known after apply)\n",
      "      \u001b[32m+\u001b[0m\u001b[0m all_tags               = (known after apply)\n",
      "      \u001b[32m+\u001b[0m\u001b[0m device_id              = (known after apply)\n",
      "      \u001b[32m+\u001b[0m\u001b[0m device_owner           = (known after apply)\n",
      "      \u001b[32m+\u001b[0m\u001b[0m dns_assignment         = (known after apply)\n",
      "      \u001b[32m+\u001b[0m\u001b[0m dns_name               = (known after apply)\n",
      "      \u001b[32m+\u001b[0m\u001b[0m id                     = (known after apply)\n",
      "      \u001b[32m+\u001b[0m\u001b[0m mac_address            = (known after apply)\n",
      "      \u001b[32m+\u001b[0m\u001b[0m name                   = \"sharednet1-node2-mlops-yc7690\"\n",
      "      \u001b[32m+\u001b[0m\u001b[0m network_id             = \"a772a899-ff3d-420b-8b31-1c485092481a\"\n",
      "      \u001b[32m+\u001b[0m\u001b[0m port_security_enabled  = (known after apply)\n",
      "      \u001b[32m+\u001b[0m\u001b[0m qos_policy_id          = (known after apply)\n",
      "      \u001b[32m+\u001b[0m\u001b[0m region                 = (known after apply)\n",
      "      \u001b[32m+\u001b[0m\u001b[0m security_group_ids     = [\n",
      "          \u001b[32m+\u001b[0m\u001b[0m \"295c8620-4924-4ad5-96eb-4e7cf752e342\",\n",
      "          \u001b[32m+\u001b[0m\u001b[0m \"b338bb71-dd8e-4c85-a184-92fb4d68b695\",\n",
      "          \u001b[32m+\u001b[0m\u001b[0m \"b4bf9af7-4028-4f13-a375-74d917114973\",\n",
      "          \u001b[32m+\u001b[0m\u001b[0m \"bc4469fc-9ef9-4c90-9dc8-6aca8e63b202\",\n",
      "          \u001b[32m+\u001b[0m\u001b[0m \"f2a377d4-28e3-43dd-b9f9-81656cd3dd49\",\n",
      "        ]\n",
      "      \u001b[32m+\u001b[0m\u001b[0m tenant_id              = (known after apply)\n",
      "\n",
      "      \u001b[32m+\u001b[0m\u001b[0m binding (known after apply)\n",
      "    }\n",
      "\n",
      "\u001b[1m  # openstack_networking_port_v2.sharednet1_ports[\"node3\"]\u001b[0m will be created\n",
      "\u001b[0m  \u001b[32m+\u001b[0m\u001b[0m resource \"openstack_networking_port_v2\" \"sharednet1_ports\" {\n",
      "      \u001b[32m+\u001b[0m\u001b[0m admin_state_up         = (known after apply)\n",
      "      \u001b[32m+\u001b[0m\u001b[0m all_fixed_ips          = (known after apply)\n",
      "      \u001b[32m+\u001b[0m\u001b[0m all_security_group_ids = (known after apply)\n",
      "      \u001b[32m+\u001b[0m\u001b[0m all_tags               = (known after apply)\n",
      "      \u001b[32m+\u001b[0m\u001b[0m device_id              = (known after apply)\n",
      "      \u001b[32m+\u001b[0m\u001b[0m device_owner           = (known after apply)\n",
      "      \u001b[32m+\u001b[0m\u001b[0m dns_assignment         = (known after apply)\n",
      "      \u001b[32m+\u001b[0m\u001b[0m dns_name               = (known after apply)\n",
      "      \u001b[32m+\u001b[0m\u001b[0m id                     = (known after apply)\n",
      "      \u001b[32m+\u001b[0m\u001b[0m mac_address            = (known after apply)\n",
      "      \u001b[32m+\u001b[0m\u001b[0m name                   = \"sharednet1-node3-mlops-yc7690\"\n",
      "      \u001b[32m+\u001b[0m\u001b[0m network_id             = \"a772a899-ff3d-420b-8b31-1c485092481a\"\n",
      "      \u001b[32m+\u001b[0m\u001b[0m port_security_enabled  = (known after apply)\n",
      "      \u001b[32m+\u001b[0m\u001b[0m qos_policy_id          = (known after apply)\n",
      "      \u001b[32m+\u001b[0m\u001b[0m region                 = (known after apply)\n",
      "      \u001b[32m+\u001b[0m\u001b[0m security_group_ids     = [\n",
      "          \u001b[32m+\u001b[0m\u001b[0m \"295c8620-4924-4ad5-96eb-4e7cf752e342\",\n",
      "          \u001b[32m+\u001b[0m\u001b[0m \"b338bb71-dd8e-4c85-a184-92fb4d68b695\",\n",
      "          \u001b[32m+\u001b[0m\u001b[0m \"b4bf9af7-4028-4f13-a375-74d917114973\",\n",
      "          \u001b[32m+\u001b[0m\u001b[0m \"bc4469fc-9ef9-4c90-9dc8-6aca8e63b202\",\n",
      "          \u001b[32m+\u001b[0m\u001b[0m \"f2a377d4-28e3-43dd-b9f9-81656cd3dd49\",\n",
      "        ]\n",
      "      \u001b[32m+\u001b[0m\u001b[0m tenant_id              = (known after apply)\n",
      "\n",
      "      \u001b[32m+\u001b[0m\u001b[0m binding (known after apply)\n",
      "    }\n",
      "\n",
      "\u001b[1m  # openstack_networking_subnet_v2.private_subnet\u001b[0m will be created\n",
      "\u001b[0m  \u001b[32m+\u001b[0m\u001b[0m resource \"openstack_networking_subnet_v2\" \"private_subnet\" {\n",
      "      \u001b[32m+\u001b[0m\u001b[0m all_tags          = (known after apply)\n",
      "      \u001b[32m+\u001b[0m\u001b[0m cidr              = \"192.168.1.0/24\"\n",
      "      \u001b[32m+\u001b[0m\u001b[0m enable_dhcp       = true\n",
      "      \u001b[32m+\u001b[0m\u001b[0m gateway_ip        = (known after apply)\n",
      "      \u001b[32m+\u001b[0m\u001b[0m id                = (known after apply)\n",
      "      \u001b[32m+\u001b[0m\u001b[0m ip_version        = 4\n",
      "      \u001b[32m+\u001b[0m\u001b[0m ipv6_address_mode = (known after apply)\n",
      "      \u001b[32m+\u001b[0m\u001b[0m ipv6_ra_mode      = (known after apply)\n",
      "      \u001b[32m+\u001b[0m\u001b[0m name              = \"private-subnet-mlops-yc7690\"\n",
      "      \u001b[32m+\u001b[0m\u001b[0m network_id        = (known after apply)\n",
      "      \u001b[32m+\u001b[0m\u001b[0m no_gateway        = true\n",
      "      \u001b[32m+\u001b[0m\u001b[0m region            = (known after apply)\n",
      "      \u001b[32m+\u001b[0m\u001b[0m service_types     = (known after apply)\n",
      "      \u001b[32m+\u001b[0m\u001b[0m tenant_id         = (known after apply)\n",
      "\n",
      "      \u001b[32m+\u001b[0m\u001b[0m allocation_pool (known after apply)\n",
      "\n",
      "      \u001b[32m+\u001b[0m\u001b[0m allocation_pools (known after apply)\n",
      "    }\n",
      "\n",
      "\u001b[1mPlan:\u001b[0m 9 to add, 0 to change, 0 to destroy.\n",
      "\u001b[0m\n",
      "Changes to Outputs:\n",
      "  \u001b[32m+\u001b[0m\u001b[0m floating_ip_out   = (known after apply)\n",
      "  \u001b[32m+\u001b[0m\u001b[0m private_net_ports = {\n",
      "      \u001b[32m+\u001b[0m\u001b[0m node1 = (known after apply)\n",
      "      \u001b[32m+\u001b[0m\u001b[0m node2 = (known after apply)\n",
      "      \u001b[32m+\u001b[0m\u001b[0m node3 = (known after apply)\n",
      "    }\n",
      "  \u001b[32m+\u001b[0m\u001b[0m sharednet1_ports  = {\n",
      "      \u001b[32m+\u001b[0m\u001b[0m node1 = (known after apply)\n",
      "      \u001b[32m+\u001b[0m\u001b[0m node2 = (known after apply)\n",
      "      \u001b[32m+\u001b[0m\u001b[0m node3 = (known after apply)\n",
      "    }\n",
      "\u001b[90m\n",
      "───────────────────────────────────────────────────────────────────────────────\u001b[0m\n",
      "\n",
      "Note: You didn't use the -out option to save this plan, so Terraform can't\n",
      "guarantee to take exactly these actions if you run \"terraform apply\" now.\n"
     ]
    }
   ],
   "source": [
    "# runs in Chameleon Jupyter environment\n",
    "terraform plan"
   ]
  },
  {
   "cell_type": "markdown",
   "metadata": {},
   "source": [
    "Finally, we will apply those changes. (We need to add an `-auto-approve` argument because ordinarily, Terraform prompts the user to type “yes” to approve the changes it will make.)"
   ]
  },
  {
   "cell_type": "code",
   "execution_count": 11,
   "metadata": {
    "tags": []
   },
   "outputs": [
    {
     "name": "stdout",
     "output_type": "stream",
     "text": [
      "\u001b[0m\u001b[1mdata.openstack_networking_secgroup_v2.allow_3000: Reading...\u001b[0m\u001b[0m\n",
      "\u001b[0m\u001b[1mdata.openstack_networking_secgroup_v2.allow_8000: Reading...\u001b[0m\u001b[0m\n",
      "\u001b[0m\u001b[1mdata.openstack_networking_secgroup_v2.allow_9090: Reading...\u001b[0m\u001b[0m\n",
      "\u001b[0m\u001b[1mdata.openstack_networking_secgroup_v2.allow_8888: Reading...\u001b[0m\u001b[0m\n",
      "\u001b[0m\u001b[1mdata.openstack_networking_subnet_v2.sharednet1_subnet: Reading...\u001b[0m\u001b[0m\n",
      "\u001b[0m\u001b[1mdata.openstack_networking_secgroup_v2.allow_ssh: Reading...\u001b[0m\u001b[0m\n",
      "\u001b[0m\u001b[1mdata.openstack_networking_network_v2.sharednet1: Reading...\u001b[0m\u001b[0m\n",
      "\u001b[0m\u001b[1mdata.openstack_networking_subnet_v2.sharednet1_subnet: Read complete after 1s [id=b872f0eb-8367-4865-a34e-409cdf34f159]\u001b[0m\n",
      "\u001b[0m\u001b[1mdata.openstack_networking_secgroup_v2.allow_ssh: Read complete after 1s [id=295c8620-4924-4ad5-96eb-4e7cf752e342]\u001b[0m\n",
      "\u001b[0m\u001b[1mdata.openstack_networking_network_v2.sharednet1: Read complete after 1s [id=a772a899-ff3d-420b-8b31-1c485092481a]\u001b[0m\n",
      "\u001b[0m\u001b[1mdata.openstack_networking_secgroup_v2.allow_8888: Read complete after 1s [id=b4bf9af7-4028-4f13-a375-74d917114973]\u001b[0m\n",
      "\u001b[0m\u001b[1mdata.openstack_networking_secgroup_v2.allow_9090: Read complete after 1s [id=b338bb71-dd8e-4c85-a184-92fb4d68b695]\u001b[0m\n",
      "\u001b[0m\u001b[1mdata.openstack_networking_secgroup_v2.allow_3000: Read complete after 1s [id=f2a377d4-28e3-43dd-b9f9-81656cd3dd49]\u001b[0m\n",
      "\u001b[0m\u001b[1mdata.openstack_networking_secgroup_v2.allow_8000: Read complete after 1s [id=bc4469fc-9ef9-4c90-9dc8-6aca8e63b202]\u001b[0m\n",
      "\n",
      "Terraform used the selected providers to generate the following execution plan.\n",
      "Resource actions are indicated with the following symbols:\n",
      "  \u001b[32m+\u001b[0m create\u001b[0m\n",
      "\n",
      "Terraform will perform the following actions:\n",
      "\n",
      "\u001b[1m  # openstack_networking_floatingip_v2.floating_ip\u001b[0m will be created\n",
      "\u001b[0m  \u001b[32m+\u001b[0m\u001b[0m resource \"openstack_networking_floatingip_v2\" \"floating_ip\" {\n",
      "      \u001b[32m+\u001b[0m\u001b[0m address     = (known after apply)\n",
      "      \u001b[32m+\u001b[0m\u001b[0m all_tags    = (known after apply)\n",
      "      \u001b[32m+\u001b[0m\u001b[0m description = \"MLOps IP for yc7690\"\n",
      "      \u001b[32m+\u001b[0m\u001b[0m dns_domain  = (known after apply)\n",
      "      \u001b[32m+\u001b[0m\u001b[0m dns_name    = (known after apply)\n",
      "      \u001b[32m+\u001b[0m\u001b[0m fixed_ip    = (known after apply)\n",
      "      \u001b[32m+\u001b[0m\u001b[0m id          = (known after apply)\n",
      "      \u001b[32m+\u001b[0m\u001b[0m pool        = \"public\"\n",
      "      \u001b[32m+\u001b[0m\u001b[0m port_id     = (known after apply)\n",
      "      \u001b[32m+\u001b[0m\u001b[0m region      = (known after apply)\n",
      "      \u001b[32m+\u001b[0m\u001b[0m subnet_id   = (known after apply)\n",
      "      \u001b[32m+\u001b[0m\u001b[0m tenant_id   = (known after apply)\n",
      "    }\n",
      "\n",
      "\u001b[1m  # openstack_networking_network_v2.private_net\u001b[0m will be created\n",
      "\u001b[0m  \u001b[32m+\u001b[0m\u001b[0m resource \"openstack_networking_network_v2\" \"private_net\" {\n",
      "      \u001b[32m+\u001b[0m\u001b[0m admin_state_up          = (known after apply)\n",
      "      \u001b[32m+\u001b[0m\u001b[0m all_tags                = (known after apply)\n",
      "      \u001b[32m+\u001b[0m\u001b[0m availability_zone_hints = (known after apply)\n",
      "      \u001b[32m+\u001b[0m\u001b[0m dns_domain              = (known after apply)\n",
      "      \u001b[32m+\u001b[0m\u001b[0m external                = (known after apply)\n",
      "      \u001b[32m+\u001b[0m\u001b[0m id                      = (known after apply)\n",
      "      \u001b[32m+\u001b[0m\u001b[0m mtu                     = (known after apply)\n",
      "      \u001b[32m+\u001b[0m\u001b[0m name                    = \"private-net-mlops-yc7690\"\n",
      "      \u001b[32m+\u001b[0m\u001b[0m port_security_enabled   = false\n",
      "      \u001b[32m+\u001b[0m\u001b[0m qos_policy_id           = (known after apply)\n",
      "      \u001b[32m+\u001b[0m\u001b[0m region                  = (known after apply)\n",
      "      \u001b[32m+\u001b[0m\u001b[0m shared                  = (known after apply)\n",
      "      \u001b[32m+\u001b[0m\u001b[0m tenant_id               = (known after apply)\n",
      "      \u001b[32m+\u001b[0m\u001b[0m transparent_vlan        = (known after apply)\n",
      "\n",
      "      \u001b[32m+\u001b[0m\u001b[0m segments (known after apply)\n",
      "    }\n",
      "\n",
      "\u001b[1m  # openstack_networking_port_v2.private_net_ports[\"node1\"]\u001b[0m will be created\n",
      "\u001b[0m  \u001b[32m+\u001b[0m\u001b[0m resource \"openstack_networking_port_v2\" \"private_net_ports\" {\n",
      "      \u001b[32m+\u001b[0m\u001b[0m admin_state_up         = (known after apply)\n",
      "      \u001b[32m+\u001b[0m\u001b[0m all_fixed_ips          = (known after apply)\n",
      "      \u001b[32m+\u001b[0m\u001b[0m all_security_group_ids = (known after apply)\n",
      "      \u001b[32m+\u001b[0m\u001b[0m all_tags               = (known after apply)\n",
      "      \u001b[32m+\u001b[0m\u001b[0m device_id              = (known after apply)\n",
      "      \u001b[32m+\u001b[0m\u001b[0m device_owner           = (known after apply)\n",
      "      \u001b[32m+\u001b[0m\u001b[0m dns_assignment         = (known after apply)\n",
      "      \u001b[32m+\u001b[0m\u001b[0m dns_name               = (known after apply)\n",
      "      \u001b[32m+\u001b[0m\u001b[0m id                     = (known after apply)\n",
      "      \u001b[32m+\u001b[0m\u001b[0m mac_address            = (known after apply)\n",
      "      \u001b[32m+\u001b[0m\u001b[0m name                   = \"port-node1-mlops-yc7690\"\n",
      "      \u001b[32m+\u001b[0m\u001b[0m network_id             = (known after apply)\n",
      "      \u001b[32m+\u001b[0m\u001b[0m port_security_enabled  = false\n",
      "      \u001b[32m+\u001b[0m\u001b[0m qos_policy_id          = (known after apply)\n",
      "      \u001b[32m+\u001b[0m\u001b[0m region                 = (known after apply)\n",
      "      \u001b[32m+\u001b[0m\u001b[0m tenant_id              = (known after apply)\n",
      "\n",
      "      \u001b[32m+\u001b[0m\u001b[0m binding (known after apply)\n",
      "\n",
      "      \u001b[32m+\u001b[0m\u001b[0m fixed_ip {\n",
      "          \u001b[32m+\u001b[0m\u001b[0m ip_address = \"192.168.1.11\"\n",
      "          \u001b[32m+\u001b[0m\u001b[0m subnet_id  = (known after apply)\n",
      "        }\n",
      "    }\n",
      "\n",
      "\u001b[1m  # openstack_networking_port_v2.private_net_ports[\"node2\"]\u001b[0m will be created\n",
      "\u001b[0m  \u001b[32m+\u001b[0m\u001b[0m resource \"openstack_networking_port_v2\" \"private_net_ports\" {\n",
      "      \u001b[32m+\u001b[0m\u001b[0m admin_state_up         = (known after apply)\n",
      "      \u001b[32m+\u001b[0m\u001b[0m all_fixed_ips          = (known after apply)\n",
      "      \u001b[32m+\u001b[0m\u001b[0m all_security_group_ids = (known after apply)\n",
      "      \u001b[32m+\u001b[0m\u001b[0m all_tags               = (known after apply)\n",
      "      \u001b[32m+\u001b[0m\u001b[0m device_id              = (known after apply)\n",
      "      \u001b[32m+\u001b[0m\u001b[0m device_owner           = (known after apply)\n",
      "      \u001b[32m+\u001b[0m\u001b[0m dns_assignment         = (known after apply)\n",
      "      \u001b[32m+\u001b[0m\u001b[0m dns_name               = (known after apply)\n",
      "      \u001b[32m+\u001b[0m\u001b[0m id                     = (known after apply)\n",
      "      \u001b[32m+\u001b[0m\u001b[0m mac_address            = (known after apply)\n",
      "      \u001b[32m+\u001b[0m\u001b[0m name                   = \"port-node2-mlops-yc7690\"\n",
      "      \u001b[32m+\u001b[0m\u001b[0m network_id             = (known after apply)\n",
      "      \u001b[32m+\u001b[0m\u001b[0m port_security_enabled  = false\n",
      "      \u001b[32m+\u001b[0m\u001b[0m qos_policy_id          = (known after apply)\n",
      "      \u001b[32m+\u001b[0m\u001b[0m region                 = (known after apply)\n",
      "      \u001b[32m+\u001b[0m\u001b[0m tenant_id              = (known after apply)\n",
      "\n",
      "      \u001b[32m+\u001b[0m\u001b[0m binding (known after apply)\n",
      "\n",
      "      \u001b[32m+\u001b[0m\u001b[0m fixed_ip {\n",
      "          \u001b[32m+\u001b[0m\u001b[0m ip_address = \"192.168.1.12\"\n",
      "          \u001b[32m+\u001b[0m\u001b[0m subnet_id  = (known after apply)\n",
      "        }\n",
      "    }\n",
      "\n",
      "\u001b[1m  # openstack_networking_port_v2.private_net_ports[\"node3\"]\u001b[0m will be created\n",
      "\u001b[0m  \u001b[32m+\u001b[0m\u001b[0m resource \"openstack_networking_port_v2\" \"private_net_ports\" {\n",
      "      \u001b[32m+\u001b[0m\u001b[0m admin_state_up         = (known after apply)\n",
      "      \u001b[32m+\u001b[0m\u001b[0m all_fixed_ips          = (known after apply)\n",
      "      \u001b[32m+\u001b[0m\u001b[0m all_security_group_ids = (known after apply)\n",
      "      \u001b[32m+\u001b[0m\u001b[0m all_tags               = (known after apply)\n",
      "      \u001b[32m+\u001b[0m\u001b[0m device_id              = (known after apply)\n",
      "      \u001b[32m+\u001b[0m\u001b[0m device_owner           = (known after apply)\n",
      "      \u001b[32m+\u001b[0m\u001b[0m dns_assignment         = (known after apply)\n",
      "      \u001b[32m+\u001b[0m\u001b[0m dns_name               = (known after apply)\n",
      "      \u001b[32m+\u001b[0m\u001b[0m id                     = (known after apply)\n",
      "      \u001b[32m+\u001b[0m\u001b[0m mac_address            = (known after apply)\n",
      "      \u001b[32m+\u001b[0m\u001b[0m name                   = \"port-node3-mlops-yc7690\"\n",
      "      \u001b[32m+\u001b[0m\u001b[0m network_id             = (known after apply)\n",
      "      \u001b[32m+\u001b[0m\u001b[0m port_security_enabled  = false\n",
      "      \u001b[32m+\u001b[0m\u001b[0m qos_policy_id          = (known after apply)\n",
      "      \u001b[32m+\u001b[0m\u001b[0m region                 = (known after apply)\n",
      "      \u001b[32m+\u001b[0m\u001b[0m tenant_id              = (known after apply)\n",
      "\n",
      "      \u001b[32m+\u001b[0m\u001b[0m binding (known after apply)\n",
      "\n",
      "      \u001b[32m+\u001b[0m\u001b[0m fixed_ip {\n",
      "          \u001b[32m+\u001b[0m\u001b[0m ip_address = \"192.168.1.13\"\n",
      "          \u001b[32m+\u001b[0m\u001b[0m subnet_id  = (known after apply)\n",
      "        }\n",
      "    }\n",
      "\n",
      "\u001b[1m  # openstack_networking_port_v2.sharednet1_ports[\"node1\"]\u001b[0m will be created\n",
      "\u001b[0m  \u001b[32m+\u001b[0m\u001b[0m resource \"openstack_networking_port_v2\" \"sharednet1_ports\" {\n",
      "      \u001b[32m+\u001b[0m\u001b[0m admin_state_up         = (known after apply)\n",
      "      \u001b[32m+\u001b[0m\u001b[0m all_fixed_ips          = (known after apply)\n",
      "      \u001b[32m+\u001b[0m\u001b[0m all_security_group_ids = (known after apply)\n",
      "      \u001b[32m+\u001b[0m\u001b[0m all_tags               = (known after apply)\n",
      "      \u001b[32m+\u001b[0m\u001b[0m device_id              = (known after apply)\n",
      "      \u001b[32m+\u001b[0m\u001b[0m device_owner           = (known after apply)\n",
      "      \u001b[32m+\u001b[0m\u001b[0m dns_assignment         = (known after apply)\n",
      "      \u001b[32m+\u001b[0m\u001b[0m dns_name               = (known after apply)\n",
      "      \u001b[32m+\u001b[0m\u001b[0m id                     = (known after apply)\n",
      "      \u001b[32m+\u001b[0m\u001b[0m mac_address            = (known after apply)\n",
      "      \u001b[32m+\u001b[0m\u001b[0m name                   = \"sharednet1-node1-mlops-yc7690\"\n",
      "      \u001b[32m+\u001b[0m\u001b[0m network_id             = \"a772a899-ff3d-420b-8b31-1c485092481a\"\n",
      "      \u001b[32m+\u001b[0m\u001b[0m port_security_enabled  = (known after apply)\n",
      "      \u001b[32m+\u001b[0m\u001b[0m qos_policy_id          = (known after apply)\n",
      "      \u001b[32m+\u001b[0m\u001b[0m region                 = (known after apply)\n",
      "      \u001b[32m+\u001b[0m\u001b[0m security_group_ids     = [\n",
      "          \u001b[32m+\u001b[0m\u001b[0m \"295c8620-4924-4ad5-96eb-4e7cf752e342\",\n",
      "          \u001b[32m+\u001b[0m\u001b[0m \"b338bb71-dd8e-4c85-a184-92fb4d68b695\",\n",
      "          \u001b[32m+\u001b[0m\u001b[0m \"b4bf9af7-4028-4f13-a375-74d917114973\",\n",
      "          \u001b[32m+\u001b[0m\u001b[0m \"bc4469fc-9ef9-4c90-9dc8-6aca8e63b202\",\n",
      "          \u001b[32m+\u001b[0m\u001b[0m \"f2a377d4-28e3-43dd-b9f9-81656cd3dd49\",\n",
      "        ]\n",
      "      \u001b[32m+\u001b[0m\u001b[0m tenant_id              = (known after apply)\n",
      "\n",
      "      \u001b[32m+\u001b[0m\u001b[0m binding (known after apply)\n",
      "    }\n",
      "\n",
      "\u001b[1m  # openstack_networking_port_v2.sharednet1_ports[\"node2\"]\u001b[0m will be created\n",
      "\u001b[0m  \u001b[32m+\u001b[0m\u001b[0m resource \"openstack_networking_port_v2\" \"sharednet1_ports\" {\n",
      "      \u001b[32m+\u001b[0m\u001b[0m admin_state_up         = (known after apply)\n",
      "      \u001b[32m+\u001b[0m\u001b[0m all_fixed_ips          = (known after apply)\n",
      "      \u001b[32m+\u001b[0m\u001b[0m all_security_group_ids = (known after apply)\n",
      "      \u001b[32m+\u001b[0m\u001b[0m all_tags               = (known after apply)\n",
      "      \u001b[32m+\u001b[0m\u001b[0m device_id              = (known after apply)\n",
      "      \u001b[32m+\u001b[0m\u001b[0m device_owner           = (known after apply)\n",
      "      \u001b[32m+\u001b[0m\u001b[0m dns_assignment         = (known after apply)\n",
      "      \u001b[32m+\u001b[0m\u001b[0m dns_name               = (known after apply)\n",
      "      \u001b[32m+\u001b[0m\u001b[0m id                     = (known after apply)\n",
      "      \u001b[32m+\u001b[0m\u001b[0m mac_address            = (known after apply)\n",
      "      \u001b[32m+\u001b[0m\u001b[0m name                   = \"sharednet1-node2-mlops-yc7690\"\n",
      "      \u001b[32m+\u001b[0m\u001b[0m network_id             = \"a772a899-ff3d-420b-8b31-1c485092481a\"\n",
      "      \u001b[32m+\u001b[0m\u001b[0m port_security_enabled  = (known after apply)\n",
      "      \u001b[32m+\u001b[0m\u001b[0m qos_policy_id          = (known after apply)\n",
      "      \u001b[32m+\u001b[0m\u001b[0m region                 = (known after apply)\n",
      "      \u001b[32m+\u001b[0m\u001b[0m security_group_ids     = [\n",
      "          \u001b[32m+\u001b[0m\u001b[0m \"295c8620-4924-4ad5-96eb-4e7cf752e342\",\n",
      "          \u001b[32m+\u001b[0m\u001b[0m \"b338bb71-dd8e-4c85-a184-92fb4d68b695\",\n",
      "          \u001b[32m+\u001b[0m\u001b[0m \"b4bf9af7-4028-4f13-a375-74d917114973\",\n",
      "          \u001b[32m+\u001b[0m\u001b[0m \"bc4469fc-9ef9-4c90-9dc8-6aca8e63b202\",\n",
      "          \u001b[32m+\u001b[0m\u001b[0m \"f2a377d4-28e3-43dd-b9f9-81656cd3dd49\",\n",
      "        ]\n",
      "      \u001b[32m+\u001b[0m\u001b[0m tenant_id              = (known after apply)\n",
      "\n",
      "      \u001b[32m+\u001b[0m\u001b[0m binding (known after apply)\n",
      "    }\n",
      "\n",
      "\u001b[1m  # openstack_networking_port_v2.sharednet1_ports[\"node3\"]\u001b[0m will be created\n",
      "\u001b[0m  \u001b[32m+\u001b[0m\u001b[0m resource \"openstack_networking_port_v2\" \"sharednet1_ports\" {\n",
      "      \u001b[32m+\u001b[0m\u001b[0m admin_state_up         = (known after apply)\n",
      "      \u001b[32m+\u001b[0m\u001b[0m all_fixed_ips          = (known after apply)\n",
      "      \u001b[32m+\u001b[0m\u001b[0m all_security_group_ids = (known after apply)\n",
      "      \u001b[32m+\u001b[0m\u001b[0m all_tags               = (known after apply)\n",
      "      \u001b[32m+\u001b[0m\u001b[0m device_id              = (known after apply)\n",
      "      \u001b[32m+\u001b[0m\u001b[0m device_owner           = (known after apply)\n",
      "      \u001b[32m+\u001b[0m\u001b[0m dns_assignment         = (known after apply)\n",
      "      \u001b[32m+\u001b[0m\u001b[0m dns_name               = (known after apply)\n",
      "      \u001b[32m+\u001b[0m\u001b[0m id                     = (known after apply)\n",
      "      \u001b[32m+\u001b[0m\u001b[0m mac_address            = (known after apply)\n",
      "      \u001b[32m+\u001b[0m\u001b[0m name                   = \"sharednet1-node3-mlops-yc7690\"\n",
      "      \u001b[32m+\u001b[0m\u001b[0m network_id             = \"a772a899-ff3d-420b-8b31-1c485092481a\"\n",
      "      \u001b[32m+\u001b[0m\u001b[0m port_security_enabled  = (known after apply)\n",
      "      \u001b[32m+\u001b[0m\u001b[0m qos_policy_id          = (known after apply)\n",
      "      \u001b[32m+\u001b[0m\u001b[0m region                 = (known after apply)\n",
      "      \u001b[32m+\u001b[0m\u001b[0m security_group_ids     = [\n",
      "          \u001b[32m+\u001b[0m\u001b[0m \"295c8620-4924-4ad5-96eb-4e7cf752e342\",\n",
      "          \u001b[32m+\u001b[0m\u001b[0m \"b338bb71-dd8e-4c85-a184-92fb4d68b695\",\n",
      "          \u001b[32m+\u001b[0m\u001b[0m \"b4bf9af7-4028-4f13-a375-74d917114973\",\n",
      "          \u001b[32m+\u001b[0m\u001b[0m \"bc4469fc-9ef9-4c90-9dc8-6aca8e63b202\",\n",
      "          \u001b[32m+\u001b[0m\u001b[0m \"f2a377d4-28e3-43dd-b9f9-81656cd3dd49\",\n",
      "        ]\n",
      "      \u001b[32m+\u001b[0m\u001b[0m tenant_id              = (known after apply)\n",
      "\n",
      "      \u001b[32m+\u001b[0m\u001b[0m binding (known after apply)\n",
      "    }\n",
      "\n",
      "\u001b[1m  # openstack_networking_subnet_v2.private_subnet\u001b[0m will be created\n",
      "\u001b[0m  \u001b[32m+\u001b[0m\u001b[0m resource \"openstack_networking_subnet_v2\" \"private_subnet\" {\n",
      "      \u001b[32m+\u001b[0m\u001b[0m all_tags          = (known after apply)\n",
      "      \u001b[32m+\u001b[0m\u001b[0m cidr              = \"192.168.1.0/24\"\n",
      "      \u001b[32m+\u001b[0m\u001b[0m enable_dhcp       = true\n",
      "      \u001b[32m+\u001b[0m\u001b[0m gateway_ip        = (known after apply)\n",
      "      \u001b[32m+\u001b[0m\u001b[0m id                = (known after apply)\n",
      "      \u001b[32m+\u001b[0m\u001b[0m ip_version        = 4\n",
      "      \u001b[32m+\u001b[0m\u001b[0m ipv6_address_mode = (known after apply)\n",
      "      \u001b[32m+\u001b[0m\u001b[0m ipv6_ra_mode      = (known after apply)\n",
      "      \u001b[32m+\u001b[0m\u001b[0m name              = \"private-subnet-mlops-yc7690\"\n",
      "      \u001b[32m+\u001b[0m\u001b[0m network_id        = (known after apply)\n",
      "      \u001b[32m+\u001b[0m\u001b[0m no_gateway        = true\n",
      "      \u001b[32m+\u001b[0m\u001b[0m region            = (known after apply)\n",
      "      \u001b[32m+\u001b[0m\u001b[0m service_types     = (known after apply)\n",
      "      \u001b[32m+\u001b[0m\u001b[0m tenant_id         = (known after apply)\n",
      "\n",
      "      \u001b[32m+\u001b[0m\u001b[0m allocation_pool (known after apply)\n",
      "\n",
      "      \u001b[32m+\u001b[0m\u001b[0m allocation_pools (known after apply)\n",
      "    }\n",
      "\n",
      "\u001b[1mPlan:\u001b[0m 9 to add, 0 to change, 0 to destroy.\n",
      "\u001b[0m\n",
      "Changes to Outputs:\n",
      "  \u001b[32m+\u001b[0m\u001b[0m floating_ip_out   = (known after apply)\n",
      "  \u001b[32m+\u001b[0m\u001b[0m private_net_ports = {\n",
      "      \u001b[32m+\u001b[0m\u001b[0m node1 = (known after apply)\n",
      "      \u001b[32m+\u001b[0m\u001b[0m node2 = (known after apply)\n",
      "      \u001b[32m+\u001b[0m\u001b[0m node3 = (known after apply)\n",
      "    }\n",
      "  \u001b[32m+\u001b[0m\u001b[0m sharednet1_ports  = {\n",
      "      \u001b[32m+\u001b[0m\u001b[0m node1 = (known after apply)\n",
      "      \u001b[32m+\u001b[0m\u001b[0m node2 = (known after apply)\n",
      "      \u001b[32m+\u001b[0m\u001b[0m node3 = (known after apply)\n",
      "    }\n",
      "\u001b[0m\u001b[1mopenstack_networking_network_v2.private_net: Creating...\u001b[0m\u001b[0m\n",
      "\u001b[0m\u001b[1mopenstack_networking_port_v2.sharednet1_ports[\"node2\"]: Creating...\u001b[0m\u001b[0m\n",
      "\u001b[0m\u001b[1mopenstack_networking_port_v2.sharednet1_ports[\"node3\"]: Creating...\u001b[0m\u001b[0m\n",
      "\u001b[0m\u001b[1mopenstack_networking_port_v2.sharednet1_ports[\"node1\"]: Creating...\u001b[0m\u001b[0m\n",
      "\u001b[0m\u001b[1mopenstack_networking_network_v2.private_net: Creation complete after 6s [id=b66a6018-7047-4460-86d8-38864e7512bf]\u001b[0m\n",
      "\u001b[0m\u001b[1mopenstack_networking_subnet_v2.private_subnet: Creating...\u001b[0m\u001b[0m\n",
      "\u001b[0m\u001b[1mopenstack_networking_port_v2.sharednet1_ports[\"node3\"]: Creation complete after 6s [id=0bf0e8bc-6b70-4e5b-8a1e-516559a408a9]\u001b[0m\n",
      "\u001b[0m\u001b[1mopenstack_networking_port_v2.sharednet1_ports[\"node2\"]: Creation complete after 6s [id=2959ffab-ae53-4ec9-a480-ed79e1a793f1]\u001b[0m\n",
      "\u001b[0m\u001b[1mopenstack_networking_port_v2.sharednet1_ports[\"node1\"]: Creation complete after 6s [id=78ad7513-5be0-48f0-9320-d34bcb4b63bf]\u001b[0m\n",
      "\u001b[0m\u001b[1mopenstack_networking_floatingip_v2.floating_ip: Creating...\u001b[0m\u001b[0m\n",
      "\u001b[0m\u001b[1mopenstack_networking_subnet_v2.private_subnet: Creation complete after 5s [id=33351d0f-df58-4063-8b14-99a0871512fe]\u001b[0m\n",
      "\u001b[0m\u001b[1mopenstack_networking_port_v2.private_net_ports[\"node1\"]: Creating...\u001b[0m\u001b[0m\n",
      "\u001b[0m\u001b[1mopenstack_networking_port_v2.private_net_ports[\"node3\"]: Creating...\u001b[0m\u001b[0m\n",
      "\u001b[0m\u001b[1mopenstack_networking_port_v2.private_net_ports[\"node2\"]: Creating...\u001b[0m\u001b[0m\n",
      "\u001b[0m\u001b[1mopenstack_networking_floatingip_v2.floating_ip: Creation complete after 6s [id=ace86185-e5c0-42a9-9db0-09dfab6a3ee3]\u001b[0m\n",
      "\u001b[0m\u001b[1mopenstack_networking_port_v2.private_net_ports[\"node1\"]: Creation complete after 6s [id=88505662-321e-4bc3-960a-aa5df304a9cc]\u001b[0m\n",
      "\u001b[0m\u001b[1mopenstack_networking_port_v2.private_net_ports[\"node3\"]: Creation complete after 5s [id=4de494e6-cd0c-421d-80a9-6078ee48afd1]\u001b[0m\n",
      "\u001b[0m\u001b[1mopenstack_networking_port_v2.private_net_ports[\"node2\"]: Creation complete after 5s [id=a18b78d2-b2c7-43eb-a98d-91f609eb1cb4]\u001b[0m\n",
      "\u001b[0m\u001b[1m\u001b[32m\n",
      "Apply complete! Resources: 9 added, 0 changed, 0 destroyed.\n",
      "\u001b[0m\u001b[0m\u001b[1m\u001b[32m\n",
      "Outputs:\n",
      "\n",
      "\u001b[0mfloating_ip_out = \"192.5.87.178\"\n",
      "private_net_ports = {\n",
      "  \"node1\" = \"88505662-321e-4bc3-960a-aa5df304a9cc\"\n",
      "  \"node2\" = \"a18b78d2-b2c7-43eb-a98d-91f609eb1cb4\"\n",
      "  \"node3\" = \"4de494e6-cd0c-421d-80a9-6078ee48afd1\"\n",
      "}\n",
      "sharednet1_ports = {\n",
      "  \"node1\" = \"78ad7513-5be0-48f0-9320-d34bcb4b63bf\"\n",
      "  \"node2\" = \"2959ffab-ae53-4ec9-a480-ed79e1a793f1\"\n",
      "  \"node3\" = \"0bf0e8bc-6b70-4e5b-8a1e-516559a408a9\"\n",
      "}\n"
     ]
    }
   ],
   "source": [
    "# runs in Chameleon Jupyter environment\n",
    "terraform apply -auto-approve"
   ]
  },
  {
   "cell_type": "code",
   "execution_count": 12,
   "metadata": {
    "tags": []
   },
   "outputs": [],
   "source": [
    "terraform output -json > outputs.json"
   ]
  },
  {
   "cell_type": "code",
   "execution_count": 14,
   "metadata": {
    "tags": []
   },
   "outputs": [],
   "source": [
    "# openstack port show 60024d29-fc52-4a76-94f4-fcb032e79258 --os-cloud openstack"
   ]
  },
  {
   "cell_type": "code",
   "execution_count": 15,
   "metadata": {
    "tags": []
   },
   "outputs": [],
   "source": [
    "# openstack security group rule list 295c8620-4924-4ad5-96eb-4e7cf752e342 --os-cloud openstack"
   ]
  },
  {
   "cell_type": "code",
   "execution_count": 16,
   "metadata": {
    "tags": []
   },
   "outputs": [],
   "source": [
    "# mkdir -p ~/.config/openstack"
   ]
  },
  {
   "cell_type": "code",
   "execution_count": 17,
   "metadata": {
    "tags": [],
    "vscode": {
     "languageId": "python"
    }
   },
   "outputs": [],
   "source": [
    "# runs in Chameleon Jupyter environment\n",
    "# cp clouds.yaml ~/.config/openstack/clouds.yaml"
   ]
  },
  {
   "cell_type": "code",
   "execution_count": null,
   "metadata": {},
   "outputs": [],
   "source": [
    "pip install openstacksdk"
   ]
  },
  {
   "cell_type": "code",
   "execution_count": null,
   "metadata": {},
   "outputs": [],
   "source": [
    "# go to 2_5_create_nodes.ipynb"
   ]
  },
  {
   "cell_type": "markdown",
   "metadata": {},
   "source": [
    "Make a note of the floating IP assigned to your instance, from the Terraform output."
   ]
  },
  {
   "cell_type": "markdown",
   "metadata": {},
   "source": [
    "From the KVM@TACC Horizon GUI, check the list of compute instances and find yours. Take a screenshot for later reference."
   ]
  },
  {
   "cell_type": "markdown",
   "metadata": {},
   "source": [
    "### Changing our infrastructure"
   ]
  },
  {
   "cell_type": "markdown",
   "metadata": {},
   "source": [
    "One especially nice thing about Terraform is that if we change our infrastructure definition, it can apply those changes without having to re-provision everything from scratch."
   ]
  },
  {
   "cell_type": "markdown",
   "metadata": {},
   "source": [
    "For example, suppose the physical node on which our “node3” VM becomes non-functional. To replace our “node3”, we can simply run"
   ]
  },
  {
   "cell_type": "code",
   "execution_count": null,
   "metadata": {},
   "outputs": [],
   "source": [
    "# runs in Chameleon Jupyter environment\n",
    "\n",
    "# terraform apply -replace='openstack_compute_instance_v2.nodes[\"node3\"]' -auto-approve"
   ]
  },
  {
   "cell_type": "markdown",
   "metadata": {},
   "source": [
    "Similarly, we could make changes to the infrastructure description in the `main.tf` file and then use `terraform apply` to update our cloud infrastructure. Terraform would determine which resources can be updated in place, which should be destroyed and recreated, and which should be left alone.\n",
    "\n",
    "This declarative approach - where we define the desired end state and let the tool get there - is much more robust than imperative-style tools for deploying infrastructure (`openstack` CLI, `python-chi` Python API) (and certainly more robust than ClickOps!)."
   ]
  }
 ],
 "metadata": {
  "kernelspec": {
   "display_name": "Bash",
   "language": "bash",
   "name": "bash"
  },
  "language_info": {
   "codemirror_mode": "shell",
   "file_extension": ".sh",
   "mimetype": "text/x-sh",
   "name": "bash"
  }
 },
 "nbformat": 4,
 "nbformat_minor": 4
}
