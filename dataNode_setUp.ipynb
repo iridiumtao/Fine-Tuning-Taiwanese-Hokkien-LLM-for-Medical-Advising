{
 "cells": [
  {
   "cell_type": "code",
   "execution_count": 1,
   "id": "205878a4-fd25-45ff-b24e-3c2618f80e73",
   "metadata": {
    "tags": []
   },
   "outputs": [
    {
     "data": {
      "application/vnd.jupyter.widget-view+json": {
       "model_id": "efca6027d1b448e1ac26523396f083da",
       "version_major": 2,
       "version_minor": 0
      },
      "text/plain": [
       "VBox(children=(Dropdown(description='Select Project', options=('CHI-251409',), value='CHI-251409'), Output()))"
      ]
     },
     "metadata": {},
     "output_type": "display_data"
    },
    {
     "data": {
      "application/vnd.jupyter.widget-view+json": {
       "model_id": "6267fc301f9a4417861c9e55867a9a89",
       "version_major": 2,
       "version_minor": 0
      },
      "text/plain": [
       "VBox(children=(Dropdown(description='Select Site', index=7, options=('CHI@TACC', 'CHI@UC', 'CHI@EVL', 'CHI@NCA…"
      ]
     },
     "metadata": {},
     "output_type": "display_data"
    }
   ],
   "source": [
    "from chi import server, context\n",
    "import chi, os, time, datetime\n",
    "\n",
    "context.version = \"1.0\" \n",
    "context.choose_project()\n",
    "context.choose_site(default=\"KVM@TACC\")"
   ]
  },
  {
   "cell_type": "code",
   "execution_count": 2,
   "id": "bd72303c-17de-40ce-a0c7-2df0dc85b007",
   "metadata": {
    "tags": []
   },
   "outputs": [
    {
     "name": "stdout",
     "output_type": "stream",
     "text": [
      "Waiting for server node-persist-project46's status to become ACTIVE. This typically takes 10 minutes, but can take up to 20 minutes.\n"
     ]
    },
    {
     "data": {
      "application/vnd.jupyter.widget-view+json": {
       "model_id": "7c06ff152b554d6187b8d798021aa491",
       "version_major": 2,
       "version_minor": 0
      },
      "text/plain": [
       "HBox(children=(Label(value=''), IntProgress(value=0, bar_style='success')))"
      ]
     },
     "metadata": {},
     "output_type": "display_data"
    },
    {
     "name": "stdout",
     "output_type": "stream",
     "text": [
      "Server has moved to status ACTIVE\n"
     ]
    },
    {
     "data": {
      "text/html": [
       "<table style='border-collapse: collapse; width: 100%;'><tr style='background-color: #f2f2f2;'><th style='border: 1px solid #ddd; padding: 8px;'>Attribute</th><th style='border: 1px solid #ddd; padding: 8px;'>node-persist-project46</th></tr><tr><td style='border: 1px solid #ddd; padding: 8px;'>Id</td><td style='border: 1px solid #ddd; padding: 8px;'>844de1a7-42eb-41aa-bf2e-95d20b28168d</td></tr><tr><td style='border: 1px solid #ddd; padding: 8px;'>Status</td><td style='border: 1px solid #ddd; padding: 8px;'>ACTIVE</td></tr><tr><td style='border: 1px solid #ddd; padding: 8px;'>Image Name</td><td style='border: 1px solid #ddd; padding: 8px;'>CC-Ubuntu24.04</td></tr><tr><td style='border: 1px solid #ddd; padding: 8px;'>Flavor Name</td><td style='border: 1px solid #ddd; padding: 8px;'>m1.large</td></tr><tr><td style='border: 1px solid #ddd; padding: 8px;'>Addresses</td><td style='border: 1px solid #ddd; padding: 8px;'><strong>sharednet1:</strong><br>&nbsp;&nbsp;IP: 10.56.2.253 (v4)<br>&nbsp;&nbsp;Type: fixed<br>&nbsp;&nbsp;MAC: fa:16:3e:fe:82:7c<br>&nbsp;&nbsp;IP: 129.114.25.29 (v4)<br>&nbsp;&nbsp;Type: floating<br>&nbsp;&nbsp;MAC: fa:16:3e:fe:82:7c<br></td></tr><tr><td style='border: 1px solid #ddd; padding: 8px;'>Network Name</td><td style='border: 1px solid #ddd; padding: 8px;'>sharednet1</td></tr><tr><td style='border: 1px solid #ddd; padding: 8px;'>Created At</td><td style='border: 1px solid #ddd; padding: 8px;'>2025-05-09T20:02:25Z</td></tr><tr><td style='border: 1px solid #ddd; padding: 8px;'>Keypair</td><td style='border: 1px solid #ddd; padding: 8px;'>tc4038_nyu_edu-jupyter</td></tr><tr><td style='border: 1px solid #ddd; padding: 8px;'>Reservation Id</td><td style='border: 1px solid #ddd; padding: 8px;'>None</td></tr><tr><td style='border: 1px solid #ddd; padding: 8px;'>Host Id</td><td style='border: 1px solid #ddd; padding: 8px;'>f9cc22c1cd59daa26bc3d78a0c7365032951b724a1e82c861b9b1802</td></tr><tr><td style='border: 1px solid #ddd; padding: 8px;'>Host Status</td><td style='border: 1px solid #ddd; padding: 8px;'>None</td></tr><tr><td style='border: 1px solid #ddd; padding: 8px;'>Hypervisor Hostname</td><td style='border: 1px solid #ddd; padding: 8px;'>None</td></tr><tr><td style='border: 1px solid #ddd; padding: 8px;'>Is Locked</td><td style='border: 1px solid #ddd; padding: 8px;'>False</td></tr></table>"
      ],
      "text/plain": [
       "<IPython.core.display.HTML object>"
      ]
     },
     "metadata": {},
     "output_type": "display_data"
    },
    {
     "data": {
      "text/plain": [
       "<chi.server.Server at 0x7fe0680de380>"
      ]
     },
     "execution_count": 2,
     "metadata": {},
     "output_type": "execute_result"
    }
   ],
   "source": [
    "# get instance\n",
    "\n",
    "s = server.Server(\n",
    "    f\"node-persist-project46\", \n",
    "    image_name=\"CC-Ubuntu24.04\",\n",
    "    flavor_name=\"m1.large\"\n",
    ")\n",
    "s.submit(idempotent=True)"
   ]
  },
  {
   "cell_type": "code",
   "execution_count": 3,
   "id": "4a2c26e1-83e5-4e33-ae71-a73776407445",
   "metadata": {
    "collapsed": true,
    "jupyter": {
     "outputs_hidden": true
    },
    "tags": []
   },
   "outputs": [
    {
     "ename": "ResourceError",
     "evalue": "None of the ports can route to floating ip 129.114.27.7 on server 844de1a7-42eb-41aa-bf2e-95d20b28168d",
     "output_type": "error",
     "traceback": [
      "\u001b[0;31m---------------------------------------------------------------------------\u001b[0m",
      "\u001b[0;31mResourceError\u001b[0m                             Traceback (most recent call last)",
      "\u001b[0;32m/tmp/ipykernel_150/831154080.py\u001b[0m in \u001b[0;36m<cell line: 1>\u001b[0;34m()\u001b[0m\n\u001b[0;32m----> 1\u001b[0;31m \u001b[0ms\u001b[0m\u001b[0;34m.\u001b[0m\u001b[0massociate_floating_ip\u001b[0m\u001b[0;34m(\u001b[0m\u001b[0;34m)\u001b[0m\u001b[0;34m\u001b[0m\u001b[0;34m\u001b[0m\u001b[0m\n\u001b[0m",
      "\u001b[0;32m/opt/conda/lib/python3.10/site-packages/chi/server.py\u001b[0m in \u001b[0;36massociate_floating_ip\u001b[0;34m(self, fip, port_id)\u001b[0m\n\u001b[1;32m    439\u001b[0m             \u001b[0;32mNone\u001b[0m\u001b[0;34m\u001b[0m\u001b[0;34m\u001b[0m\u001b[0m\n\u001b[1;32m    440\u001b[0m         \"\"\"\n\u001b[0;32m--> 441\u001b[0;31m         \u001b[0massociate_floating_ip\u001b[0m\u001b[0;34m(\u001b[0m\u001b[0mself\u001b[0m\u001b[0;34m.\u001b[0m\u001b[0mid\u001b[0m\u001b[0;34m,\u001b[0m \u001b[0mfip\u001b[0m\u001b[0;34m,\u001b[0m \u001b[0mport_id\u001b[0m\u001b[0;34m)\u001b[0m\u001b[0;34m\u001b[0m\u001b[0;34m\u001b[0m\u001b[0m\n\u001b[0m\u001b[1;32m    442\u001b[0m         \u001b[0mself\u001b[0m\u001b[0;34m.\u001b[0m\u001b[0mrefresh\u001b[0m\u001b[0;34m(\u001b[0m\u001b[0;34m)\u001b[0m\u001b[0;34m\u001b[0m\u001b[0;34m\u001b[0m\u001b[0m\n\u001b[1;32m    443\u001b[0m \u001b[0;34m\u001b[0m\u001b[0m\n",
      "\u001b[0;32m/opt/conda/lib/python3.10/site-packages/chi/server.py\u001b[0m in \u001b[0;36massociate_floating_ip\u001b[0;34m(server_id, floating_ip_address, port_id)\u001b[0m\n\u001b[1;32m    830\u001b[0m                 \u001b[0;32mpass\u001b[0m\u001b[0;34m\u001b[0m\u001b[0;34m\u001b[0m\u001b[0m\n\u001b[1;32m    831\u001b[0m     \u001b[0mfloating_ip_address\u001b[0m \u001b[0;34m=\u001b[0m \u001b[0mfloating_ip_obj\u001b[0m\u001b[0;34m[\u001b[0m\u001b[0;34m\"floating_ip_address\"\u001b[0m\u001b[0;34m]\u001b[0m\u001b[0;34m\u001b[0m\u001b[0;34m\u001b[0m\u001b[0m\n\u001b[0;32m--> 832\u001b[0;31m     \u001b[0;32mraise\u001b[0m \u001b[0mexception\u001b[0m\u001b[0;34m.\u001b[0m\u001b[0mResourceError\u001b[0m\u001b[0;34m(\u001b[0m\u001b[0;34mf\"None of the ports can route to floating ip {floating_ip_address} on server {server_id}\"\u001b[0m\u001b[0;34m)\u001b[0m\u001b[0;34m\u001b[0m\u001b[0;34m\u001b[0m\u001b[0m\n\u001b[0m\u001b[1;32m    833\u001b[0m \u001b[0;34m\u001b[0m\u001b[0m\n\u001b[1;32m    834\u001b[0m \u001b[0;34m\u001b[0m\u001b[0m\n",
      "\u001b[0;31mResourceError\u001b[0m: None of the ports can route to floating ip 129.114.27.7 on server 844de1a7-42eb-41aa-bf2e-95d20b28168d"
     ]
    }
   ],
   "source": [
    "s.associate_floating_ip()"
   ]
  },
  {
   "cell_type": "code",
   "execution_count": 4,
   "id": "84b387be-a831-49b3-b2fb-ef12f7d2f941",
   "metadata": {
    "tags": []
   },
   "outputs": [
    {
     "name": "stdout",
     "output_type": "stream",
     "text": [
      "Checking connectivity to 129.114.25.29 port 22.\n"
     ]
    },
    {
     "data": {
      "application/vnd.jupyter.widget-view+json": {
       "model_id": "91bf8f19da264ec291a0692368e21aee",
       "version_major": 2,
       "version_minor": 0
      },
      "text/plain": [
       "HBox(children=(Label(value=''), IntProgress(value=0, bar_style='success')))"
      ]
     },
     "metadata": {},
     "output_type": "display_data"
    },
    {
     "name": "stdout",
     "output_type": "stream",
     "text": [
      "Connection successful\n"
     ]
    }
   ],
   "source": [
    "s.refresh()\n",
    "s.check_connectivity()"
   ]
  },
  {
   "cell_type": "code",
   "execution_count": 5,
   "id": "60268d1f-4339-43ce-a148-d654c46ad5c4",
   "metadata": {
    "tags": []
   },
   "outputs": [
    {
     "name": "stdout",
     "output_type": "stream",
     "text": [
      "updated security groups: ['allow-8000', 'allow-8080', 'allow-8888', 'allow-9000', 'allow-9001', 'allow-ssh', 'default']\n"
     ]
    }
   ],
   "source": [
    "# security group\n",
    "\n",
    "security_groups = [\n",
    "  {'name': \"allow-ssh\", 'port': 22, 'description': \"Enable SSH traffic on TCP port 22\"},\n",
    "  {'name': \"allow-8888\", 'port': 8888, 'description': \"Enable TCP port 8888 (used by Jupyter)\"},\n",
    "  {'name': \"allow-8000\", 'port': 8000, 'description': \"Enable TCP port 8000 (used by MLFlow)\"},\n",
    "  {'name': \"allow-9000\", 'port': 9000, 'description': \"Enable TCP port 9000 (used by MinIO API)\"},\n",
    "  {'name': \"allow-9001\", 'port': 9001, 'description': \"Enable TCP port 9001 (used by MinIO Web UI)\"},\n",
    "  {'name': \"allow-8080\", 'port': 8080, 'description': \"Enable TCP port 8080 (used by AirFlow)\"}\n",
    "]\n",
    "\n",
    "os_conn = chi.clients.connection()\n",
    "nova_server = chi.nova().servers.get(s.id)\n",
    "\n",
    "for sg in security_groups:\n",
    "  nova_server.add_security_group(sg['name'])\n",
    "\n",
    "print(f\"updated security groups: {[group.name for group in nova_server.list_security_group()]}\")"
   ]
  },
  {
   "cell_type": "code",
   "execution_count": 6,
   "id": "a458663d-d817-46fd-9fab-16da335151d9",
   "metadata": {
    "collapsed": true,
    "jupyter": {
     "outputs_hidden": true
    },
    "tags": []
   },
   "outputs": [
    {
     "name": "stderr",
     "output_type": "stream",
     "text": [
      "/opt/conda/lib/python3.10/site-packages/paramiko/client.py:889: UserWarning: Unknown ssh-ed25519 host key for 129.114.25.29: b'c611879826a97aa26c0e0daaeb5b976a'\n",
      "  warnings.warn(\n"
     ]
    },
    {
     "name": "stdout",
     "output_type": "stream",
     "text": [
      "# Executing docker install script, commit: 53a22f61c0628e58e1d6680b49e82993d304b449\n"
     ]
    },
    {
     "name": "stderr",
     "output_type": "stream",
     "text": [
      "+ sh -c apt-get -qq update >/dev/null\n",
      "+ sh -c DEBIAN_FRONTEND=noninteractive apt-get -y -qq install ca-certificates curl >/dev/null\n",
      "\n",
      "Running kernel seems to be up-to-date.\n",
      "\n",
      "Restarting services...\n",
      " systemctl restart packagekit.service\n",
      "\n",
      "No containers need to be restarted.\n",
      "\n",
      "No user sessions are running outdated binaries.\n",
      "\n",
      "No VM guests are running outdated hypervisor (qemu) binaries on this host.\n",
      "+ sh -c install -m 0755 -d /etc/apt/keyrings\n",
      "+ sh -c curl -fsSL \"https://download.docker.com/linux/ubuntu/gpg\" -o /etc/apt/keyrings/docker.asc\n",
      "+ sh -c chmod a+r /etc/apt/keyrings/docker.asc\n",
      "+ sh -c echo \"deb [arch=amd64 signed-by=/etc/apt/keyrings/docker.asc] https://download.docker.com/linux/ubuntu noble stable\" > /etc/apt/sources.list.d/docker.list\n",
      "+ sh -c apt-get -qq update >/dev/null\n",
      "+ sh -c DEBIAN_FRONTEND=noninteractive apt-get -y -qq install docker-ce docker-ce-cli containerd.io docker-compose-plugin docker-ce-rootless-extras docker-buildx-plugin >/dev/null\n",
      "\n",
      "Running kernel seems to be up-to-date.\n",
      "\n",
      "No services need to be restarted.\n",
      "\n",
      "No containers need to be restarted.\n",
      "\n",
      "No user sessions are running outdated binaries.\n",
      "\n",
      "No VM guests are running outdated hypervisor (qemu) binaries on this host.\n",
      "+ sh -c docker version\n"
     ]
    },
    {
     "name": "stdout",
     "output_type": "stream",
     "text": [
      "Client: Docker Engine - Community\n",
      " Version:           28.1.1\n",
      " API version:       1.49\n",
      " Go version:        go1.23.8\n",
      " Git commit:        4eba377\n",
      " Built:             Fri Apr 18 09:52:14 2025\n",
      " OS/Arch:           linux/amd64\n",
      " Context:           default\n",
      "\n",
      "Server: Docker Engine - Community\n",
      " Engine:\n",
      "  Version:          28.1.1\n",
      "  API version:      1.49 (minimum version 1.24)\n",
      "  Go version:       go1.23.8\n",
      "  Git commit:       01f442b\n",
      "  Built:            Fri Apr 18 09:52:14 2025\n",
      "  OS/Arch:          linux/amd64\n",
      "  Experimental:     false\n",
      " containerd:\n",
      "  Version:          1.7.27\n",
      "  GitCommit:        05044ec0a9a75232cad458027ca83437aae3f4da\n",
      " runc:\n",
      "  Version:          1.2.5\n",
      "  GitCommit:        v1.2.5-0-g59923ef\n",
      " docker-init:\n",
      "  Version:          0.19.0\n",
      "  GitCommit:        de40ad0\n",
      "\n",
      "================================================================================\n",
      "\n",
      "To run Docker as a non-privileged user, consider setting up the\n",
      "Docker daemon in rootless mode for your user:\n",
      "\n",
      "    dockerd-rootless-setuptool.sh install\n",
      "\n",
      "Visit https://docs.docker.com/go/rootless/ to learn about rootless mode.\n",
      "\n",
      "\n",
      "To run the Docker daemon as a fully privileged service, but granting non-root\n",
      "users access, refer to https://docs.docker.com/go/daemon-access/\n",
      "\n",
      "WARNING: Access to the remote API on a privileged Docker daemon is equivalent\n",
      "         to root access on the host. Refer to the 'Docker daemon attack surface'\n",
      "         documentation for details: https://docs.docker.com/go/attack-surface/\n",
      "\n",
      "================================================================================\n",
      "\n"
     ]
    },
    {
     "data": {
      "text/plain": [
       "<Result cmd='sudo groupadd -f docker; sudo usermod -aG docker $USER' exited=0>"
      ]
     },
     "execution_count": 6,
     "metadata": {},
     "output_type": "execute_result"
    }
   ],
   "source": [
    "# set up docker\n",
    "\n",
    "s.execute(\"curl -sSL https://get.docker.com/ | sudo sh\")\n",
    "s.execute(\"sudo groupadd -f docker; sudo usermod -aG docker $USER\")"
   ]
  },
  {
   "cell_type": "markdown",
   "id": "2c99560b-154d-4088-a011-d8fda3dda29e",
   "metadata": {},
   "source": [
    "## Create object storage\n",
    "\n",
    "### Set up rclone\n",
    "Open the GUI for CHI@TACC:\n",
    "- from the Chameleon website\n",
    "- click “Experiment” > “CHI@TACC”\n",
    "- log in if prompted to do so\n",
    "- check the project drop-down menu near the top left (which shows e.g. “CHI-XXXXXX”), and make sure the correct project is selected.\n",
    "\n",
    "In the menu sidebar on the left side, click on “Object Store” > “Containers” and then, “Create Container”. \n",
    "- Specify the name \n",
    "- Leave other settings at their defaults, and click “Submit”.\n",
    "\n",
    "In the menu sidebar on the left side of the Horizon GUI, click “Identity” > “Application Credentials”. Then, click “Create Application Credential”.\n",
    "- In the “Name”, field, use “data-persist”.\n",
    "- Set the “Expiration” date to the end date of the current semester. (Note that this will be in UTC time, not your local time zone.) This ensures that if your credential is leaked (e.g. you accidentially push it to a public Github repository), the damage is mitigated.\n",
    "- Click “Create Application Credential”.\n",
    "- Copy the “ID” and “Secret” displayed in the dialog, and save them in a safe place. You will not be able to view the secret again from the Horizon GUI. Then, click “Download openrc file” to have another copy of the secret.\n",
    "\n",
    "Back to your instance,\n",
    "\n",
    "``` bash\n",
    "# run on node-persist\n",
    "curl https://rclone.org/install.sh | sudo bash\n",
    "``` \n",
    "\n",
    "``` bash\n",
    "# run on node-persist\n",
    "# this line makes sure user_allow_other is un-commented in /etc/fuse.conf\n",
    "sudo sed -i '/^#user_allow_other/s/^#//' /etc/fuse.conf\n",
    "``` \n",
    "\n",
    "``` bash\n",
    "# run on node-persist\n",
    "mkdir -p ~/.config/rclone\n",
    "nano  ~/.config/rclone/rclone.conf\n",
    "``` \n",
    "\n",
    "Fill in your application_credential\n",
    "```bash\n",
    "[chi_tacc]\n",
    "type = swift\n",
    "user_id = YOUR_USER_ID\n",
    "application_credential_id = APP_CRED_ID\n",
    "application_credential_secret = APP_CRED_SECRET\n",
    "auth = https://chi.tacc.chameleoncloud.org:5000/v3\n",
    "region = CHI@TACC\n",
    "```\n",
    "\n",
    "\n",
    "### Create ETL pipeline to load data into the object store\n",
    "\n",
    "Get data online and laod into our object storage. \n",
    "\n",
    "``` bash\n",
    "# run on node-persist\n",
    "docker compose -f docker-compose-etl.yaml run extract-data\n",
    "``` \n",
    "\n",
    "``` bash\n",
    "# run on node-persist\n",
    "docker compose -f docker-compose-etl.yaml run transform-data\n",
    "``` \n",
    "\n",
    "Replace with your container name\n",
    "``` bash\n",
    "# run on node-persist\n",
    "export RCLONE_CONTAINER=object-persist-project46\n",
    "docker compose -f docker-compose-etl.yaml run load-data\n",
    "``` \n",
    "\n",
    "``` bash\n",
    "# run on node-persist\n",
    "docker volume rm food11-etl_food11\n",
    "``` \n",
    "\n",
    "\n",
    "### Mount the object store\n",
    "\n",
    "``` bash\n",
    "# run on node-persist\n",
    "sudo mkdir -p /mnt/object\n",
    "sudo chown -R cc /mnt/object\n",
    "sudo chgrp -R cc /mnt/object\n",
    "``` \n",
    "\n",
    "Replace with your container name\n",
    "``` bash\n",
    "# run on node-persist\n",
    "rclone mount chi_tacc:object-persist-project46 /mnt/object --read-only --allow-other --daemon\n",
    "``` \n",
    "\n",
    "Run\n",
    "``` bash\n",
    "# run on node-persist\n",
    "ls /mnt/object\n",
    "``` \n",
    "to confirm there is the data directories. "
   ]
  },
  {
   "cell_type": "code",
   "execution_count": 3,
   "id": "6803a72f-3491-4126-8011-2c9e49a62384",
   "metadata": {
    "tags": []
   },
   "outputs": [
    {
     "data": {
      "text/plain": [
       "{'id': '9a872ab0-dd2a-4bcc-8e14-1067e533cc7f',\n",
       " 'status': 'creating',\n",
       " 'size': 2,\n",
       " 'availability_zone': 'nova',\n",
       " 'created_at': '2025-05-10T19:29:54.476752',\n",
       " 'updated_at': None,\n",
       " 'name': 'block-persist-project46',\n",
       " 'description': None,\n",
       " 'volume_type': 'ceph-hdd',\n",
       " 'snapshot_id': None,\n",
       " 'source_volid': None,\n",
       " 'metadata': {},\n",
       " 'links': [{'rel': 'self',\n",
       "   'href': 'https://kvm.tacc.chameleoncloud.org:8776/v3/89f528973fea4b3a981f9b2344e522de/volumes/9a872ab0-dd2a-4bcc-8e14-1067e533cc7f'},\n",
       "  {'rel': 'bookmark',\n",
       "   'href': 'https://kvm.tacc.chameleoncloud.org:8776/89f528973fea4b3a981f9b2344e522de/volumes/9a872ab0-dd2a-4bcc-8e14-1067e533cc7f'}],\n",
       " 'user_id': '8125dddc60b12b71d1538f9444d174e37e647052370f871a725e4861e482938a',\n",
       " 'bootable': 'false',\n",
       " 'encrypted': False,\n",
       " 'replication_status': None,\n",
       " 'consistencygroup_id': None,\n",
       " 'multiattach': False,\n",
       " 'attachments': []}"
      ]
     },
     "execution_count": 3,
     "metadata": {},
     "output_type": "execute_result"
    }
   ],
   "source": [
    "# create volume\n",
    "\n",
    "cinder_client = chi.clients.cinder()\n",
    "cinder_client.volumes.list()\n",
    "volume = cinder_client.volumes.create(name=f\"block-persist-project46\", size=2)\n",
    "volume._info"
   ]
  },
  {
   "cell_type": "code",
   "execution_count": 4,
   "id": "e0ef2a4b-aa18-402f-9032-abc9686ff1c4",
   "metadata": {
    "tags": []
   },
   "outputs": [
    {
     "data": {
      "text/plain": [
       "<Volume: 9a872ab0-dd2a-4bcc-8e14-1067e533cc7f>"
      ]
     },
     "execution_count": 4,
     "metadata": {},
     "output_type": "execute_result"
    }
   ],
   "source": [
    "# attach to instance\n",
    "\n",
    "volume_name = 'block-persist-project46'\n",
    "\n",
    "cinder_client = chi.clients.cinder()\n",
    "volume = [v for v in cinder_client.volumes.list() if v.name== volume_name][0]\n",
    "\n",
    "volume_manager = chi.nova().volumes\n",
    "volume_manager.create_server_volume(server_id = s.id, volume_id = volume.id)"
   ]
  },
  {
   "cell_type": "markdown",
   "id": "0f9e1d4f-ae8b-43a4-81fe-3666b045af9f",
   "metadata": {},
   "source": [
    "On the instance, let’s confirm that we can see the block storage volume. Run\n",
    "\n",
    "``` bash\n",
    "# run on node-persist\n",
    "lsblk\n",
    "```\n",
    "\n",
    "and verify that `vdb` appears in the output.\n",
    "\n",
    "\n",
    "``` bash\n",
    "# run on node-persist\n",
    "sudo parted -s /dev/vdb mklabel gpt\n",
    "sudo parted -s /dev/vdb mkpart primary ext4 0% 100%\n",
    "```\n",
    "\n",
    "Verify that we now have the partition `vdb1` in the output of\n",
    "\n",
    "``` bash\n",
    "# run on node-persist\n",
    "lsblk\n",
    "```\n",
    "\n",
    "Next, we format the partition:\n",
    "\n",
    "``` bash\n",
    "# run on node-persist\n",
    "sudo mkfs.ext4 /dev/vdb1\n",
    "```\n",
    "\n",
    "Finally, create a directory in the local filesystem, mount the partition to that directory:\n",
    "\n",
    "``` bash\n",
    "# run on node-persist\n",
    "sudo mkdir -p /mnt/block\n",
    "sudo mount /dev/vdb1 /mnt/block\n",
    "```\n",
    "\n",
    "and change the owner of that directory to the `cc` user:\n",
    "\n",
    "``` bash\n",
    "# run on node-persist\n",
    "sudo chown -R cc /mnt/block\n",
    "sudo chgrp -R cc /mnt/block\n",
    "```\n",
    "\n",
    "Run\n",
    "\n",
    "``` bash\n",
    "# run on node-persist\n",
    "df -h\n",
    "```\n",
    "\n",
    "and verify that the output includes a line with `/dev/vdb1` mounted on `/mnt/block`:\n",
    "\n",
    "    Filesystem      Size  Used Avail Use% Mounted on\n",
    "    /dev/vdb1       2.0G   24K  1.9G   1% /m"
   ]
  },
  {
   "cell_type": "markdown",
   "id": "0e3b9593-027b-451e-9384-fa179d1e5483",
   "metadata": {},
   "source": [
    "### preprocess and upload data\n",
    "\n",
    "clone the repo if not yet cloned\n",
    "```bash\n",
    "# run on node-persist\n",
    "git clone -b data_br https://github.com/LawrenceLu0904/Fine-Tuning-Taiwanese-Hokkien-LLM-for-Medical-Advising\n",
    "```\n",
    "\n",
    "```bash\n",
    "# run on node-persist\n",
    "sudo chown -R 1000:1000 /workspace\n",
    "```\n",
    "\n",
    "```bash\n",
    "# run on node-persist\n",
    "docker compose -f ~/docker/data/docker-compose-processing.yaml up --build -d\n",
    "```\n",
    "\n",
    "```bash\n",
    "# run on node-persist\n",
    "docker logs jupyter_processing\n",
    "```\n",
    "find the url and open jupyter notebook.\n",
    "\n",
    "Run \"formatting_train.ipynb\".\n",
    "The Data is now proccessed and upload to object container. \n",
    "\n"
   ]
  },
  {
   "cell_type": "code",
   "execution_count": null,
   "id": "4adef09a-53b6-4961-8ff8-23ed22c41e65",
   "metadata": {},
   "outputs": [],
   "source": []
  }
 ],
 "metadata": {
  "kernelspec": {
   "display_name": "Python 3 (ipykernel)",
   "language": "python",
   "name": "python3"
  },
  "language_info": {
   "codemirror_mode": {
    "name": "ipython",
    "version": 3
   },
   "file_extension": ".py",
   "mimetype": "text/x-python",
   "name": "python",
   "nbconvert_exporter": "python",
   "pygments_lexer": "ipython3",
   "version": "3.12.10"
  }
 },
 "nbformat": 4,
 "nbformat_minor": 5
}
