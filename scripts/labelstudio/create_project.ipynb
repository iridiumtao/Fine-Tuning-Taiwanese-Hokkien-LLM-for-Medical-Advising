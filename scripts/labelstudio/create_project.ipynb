{
 "cells": [
  {
   "cell_type": "markdown",
   "metadata": {},
   "source": [
    "### Evaluate accuracy on production data\n",
    "\n",
    "We are going to:\n",
    "\n",
    "-   connect to Label Studio and retrieve the details of all the “tasks” associated with our Food11 project\n",
    "-   connect to MinIO, and get the predicted class (from the tag!) of every object in the “production” bucket\n",
    "\n",
    "and compare those, to evaluate the accuracy of our system on “production” data."
   ]
  },
  {
   "cell_type": "code",
   "execution_count": 17,
   "metadata": {},
   "outputs": [],
   "source": [
    "# runs inside Jupyter container on node-eval-loop\n",
    "import requests\n",
    "import boto3 \n",
    "from urllib.parse import urlparse\n",
    "from collections import defaultdict, Counter\n",
    "import os\n",
    "import json"
   ]
  },
  {
   "cell_type": "markdown",
   "metadata": {},
   "source": [
    "First, we need to get the details we will need to authenticate to MinIO and to Label Studio. We passed these as environment variables to the Jupyter container:"
   ]
  },
  {
   "cell_type": "code",
   "execution_count": 2,
   "metadata": {},
   "outputs": [],
   "source": [
    "# runs inside Jupyter container on node-eval-loop\n",
    "LABEL_STUDIO_URL = os.environ['LABEL_STUDIO_URL']\n",
    "LABEL_STUDIO_TOKEN = os.environ['LABEL_STUDIO_USER_TOKEN']\n",
    "PROJECT_ID = 1  # use the first project set up in Label Studio\n",
    "\n",
    "MINIO_URL = os.environ['MINIO_URL']\n",
    "MINIO_ACCESS_KEY = os.environ['MINIO_USER']\n",
    "MINIO_SECRET_KEY = os.environ['MINIO_PASSWORD']\n",
    "BUCKET_NAME = \"production\""
   ]
  },
  {
   "cell_type": "code",
   "execution_count": 30,
   "metadata": {},
   "outputs": [],
   "source": [
    "LABEL_CONFIG = \"\"\"\n",
    "<View>\n",
    "  <Text name=\"prompt\" value=\"$prompt\"/>\n",
    "  <Text name=\"response\" value=\"$response\"/>\n",
    "  <View style=\"box-shadow: 2px 2px 5px #999;\n",
    "               padding: 20px; margin-top: 2em;\n",
    "               border-radius: 5px;\">\n",
    "    <Header value=\"Choose text sentiment\"/>\n",
    "    <Choices name=\"sentiment\" toName=\"response\"\n",
    "             choice=\"single\" showInLine=\"true\">\n",
    "      <Choice value=\"Good Response\"/>\n",
    "      <Choice value=\"Bad Response\"/>\n",
    "    </Choices>\n",
    "  </View>\n",
    "</View>\n",
    "\"\"\""
   ]
  },
  {
   "cell_type": "markdown",
   "metadata": {},
   "source": [
    "Create Label Studio project"
   ]
  },
  {
   "cell_type": "code",
   "execution_count": 31,
   "metadata": {},
   "outputs": [
    {
     "name": "stdout",
     "output_type": "stream",
     "text": [
      "Created new project: Taigi Medical LLM Random Test (ID 4)\n"
     ]
    }
   ],
   "source": [
    "# runs inside Jupyter container on node-eval-loop\n",
    "headers = {\"Authorization\": f\"Token {LABEL_STUDIO_TOKEN}\"}\n",
    "\n",
    "# configure a project - set up its name and the appearance of the labeling interface\n",
    "project_config = {\n",
    "    \"title\": \"Taigi Medical LLM Random Test\",\n",
    "    \"label_config\": LABEL_CONFIG\n",
    "}\n",
    "\n",
    "# send it to Label Studio API\n",
    "res = requests.post(f\"{LABEL_STUDIO_URL}/api/projects\", json=project_config, headers=headers)\n",
    "if res.status_code == 201:\n",
    "    PROJECT_ID = res.json()['id']\n",
    "    print(f\"Created new project: Taigi Medical LLM Random Test (ID {PROJECT_ID})\")\n",
    "else:\n",
    "    raise Exception(\"Failed to create project:\", res.text)"
   ]
  },
  {
   "cell_type": "markdown",
   "metadata": {},
   "source": [
    "Let’s authenticate to MinIO:"
   ]
  },
  {
   "cell_type": "code",
   "execution_count": 32,
   "metadata": {},
   "outputs": [],
   "source": [
    "# runs inside Jupyter container on node-eval-loop\n",
    "public_ip = requests.get(\"http://169.254.169.254/latest/meta-data/public-ipv4\").text.strip()\n",
    "s3 = boto3.client(\n",
    "    \"s3\",\n",
    "    endpoint_url=f\"http://{public_ip}:9000\",\n",
    "    aws_access_key_id=MINIO_ACCESS_KEY,\n",
    "    aws_secret_access_key=MINIO_SECRET_KEY,\n",
    "    region_name=\"us-east-1\"\n",
    ")"
   ]
  },
  {
   "cell_type": "markdown",
   "metadata": {},
   "source": [
    "Get a list of objects in the “production” bucket:"
   ]
  },
  {
   "cell_type": "code",
   "execution_count": 33,
   "metadata": {},
   "outputs": [],
   "source": [
    "all_keys = []\n",
    "paginator = s3.get_paginator(\"list_objects_v2\")\n",
    "for page in paginator.paginate(Bucket=BUCKET_NAME):\n",
    "    for obj in page.get(\"Contents\", []):\n",
    "        all_keys.append(obj[\"Key\"])\n"
   ]
  },
  {
   "cell_type": "markdown",
   "metadata": {},
   "source": [
    "and then, send those as tasks to Label Studio:"
   ]
  },
  {
   "cell_type": "code",
   "execution_count": 34,
   "metadata": {},
   "outputs": [
    {
     "name": "stdout",
     "output_type": "stream",
     "text": [
      "Imported 4 tasks into project 4\n"
     ]
    }
   ],
   "source": [
    "# generate a URL for each object we want to label, so that the annotator can view the image from their browser\n",
    "tasks = []\n",
    "for key in all_keys:\n",
    "    obj = s3.get_object(Bucket=BUCKET_NAME, Key=key)\n",
    "    body = obj[\"Body\"].read().decode(\"utf-8\")\n",
    "    conversation = json.loads(body)\n",
    "\n",
    "    tasks.append({\"data\": conversation, \"meta\": {\"original_key\": key}})\n",
    "\n",
    "# then, send the lists of tasks to the Label Studio project\n",
    "res = requests.post(\n",
    "    f\"{LABEL_STUDIO_URL}/api/projects/{PROJECT_ID}/import\",\n",
    "    json=tasks,\n",
    "    headers=headers\n",
    ")\n",
    "if res.status_code == 201:\n",
    "    print(f\"Imported {len(tasks)} tasks into project {PROJECT_ID}\")\n",
    "else:\n",
    "    raise Exception(\"Failed to import tasks:\", res.text)\n"
   ]
  },
  {
   "cell_type": "code",
   "execution_count": null,
   "metadata": {},
   "outputs": [],
   "source": []
  }
 ],
 "metadata": {
  "kernelspec": {
   "display_name": "Python 3 (ipykernel)",
   "language": "python",
   "name": "python3"
  },
  "language_info": {
   "codemirror_mode": {
    "name": "ipython",
    "version": 3
   },
   "file_extension": ".py",
   "mimetype": "text/x-python",
   "name": "python",
   "nbconvert_exporter": "python",
   "pygments_lexer": "ipython3",
   "version": "3.12.10"
  }
 },
 "nbformat": 4,
 "nbformat_minor": 4
}
